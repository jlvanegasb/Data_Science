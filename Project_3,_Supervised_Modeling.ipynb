{
  "nbformat": 4,
  "nbformat_minor": 0,
  "metadata": {
    "colab": {
      "provenance": []
    },
    "kernelspec": {
      "name": "python3",
      "display_name": "Python 3"
    },
    "language_info": {
      "name": "python"
    }
  },
  "cells": [
    {
      "cell_type": "markdown",
      "source": [
        "## Project 3, Supervised Modeling\n",
        "\n"
      ],
      "metadata": {
        "id": "appIq4HAHKgk"
      }
    },
    {
      "cell_type": "code",
      "source": [
        "# Import necessary libraries\n",
        "import numpy as np\n",
        "import pandas as pd\n",
        "%matplotlib inline\n",
        "import matplotlib.pyplot as plt\n",
        "%load_ext autoreload\n",
        "%autoreload 2\n",
        "import datetime\n",
        "# For graphics\n",
        "import matplotlib.pyplot as plt\n",
        "from matplotlib import style\n",
        "import seaborn as sns\n",
        "# scikit-learn\n",
        "from sklearn.dummy           import DummyClassifier\n",
        "from sklearn.linear_model    import LogisticRegression\n",
        "from sklearn.linear_model    import LinearRegression\n",
        "from sklearn.linear_model    import Lasso\n",
        "from sklearn.metrics         import confusion_matrix\n",
        "from sklearn.metrics         import roc_curve\n",
        "from sklearn.metrics         import roc_auc_score\n",
        "from sklearn.preprocessing   import StandardScaler\n",
        "from sklearn.model_selection import train_test_split\n",
        "from sklearn.metrics         import mean_squared_error\n",
        "from scipy.stats             import pearsonr\n",
        "from sklearn.linear_model    import Ridge\n",
        "from sklearn.linear_model    import ElasticNet\n",
        "from sklearn.linear_model    import RidgeCV\n",
        "from sklearn.linear_model    import LassoCV\n",
        "from sklearn.linear_model    import ElasticNetCV\n",
        "from sklearn.model_selection import KFold\n",
        "from numpy                   import where\n",
        "from collections             import Counter\n",
        "from sklearn.datasets        import make_classification\n",
        "from sklearn.datasets        import make_multilabel_classification\n",
        "from sklearn.datasets        import make_blobs\n",
        "from sklearn                 import metrics\n",
        "from sklearn.tree            import DecisionTreeClassifier\n",
        "from sklearn.neighbors       import KNeighborsClassifier\n",
        "import warnings\n",
        "warnings.filterwarnings('ignore')"
      ],
      "metadata": {
        "id": "sLxW_wV3MzCb"
      },
      "execution_count": null,
      "outputs": []
    },
    {
      "cell_type": "markdown",
      "source": [
        "## Part 1\n",
        "\n",
        "Download fhe following file: https://drive.google.com/file/d/1mwbTl_m-r6oyKVl_ZHPOE4Io5tMohkr1/view?usp=sharing \n",
        "\n",
        "A Human Resources team has just provided you with the file you downloaded. In this they indicate some characteristics that they believe influence the salary that some people who apply to technology companies seek.\n",
        "\n",
        "This team asks for your help to design a model that can predict how much each applicant will request based on the following characteristics:\n",
        "\n",
        "- `Experiencia`: Years of experience in the area.\n",
        "- `Posición`: Position you are looking for; there are three options:\n",
        "  - `Analista`\n",
        "  - `Coordinador`\n",
        "  - `Gerente`\n",
        "- `Hijos`: Number of children.\n",
        "- `Casado`: Is the applicant  married?\n",
        "  - `0`: No\n",
        "  - `1`: Yes\n",
        "- `Educación`: What is the highest degree of studies completed? There are three options:\n",
        "  - `Bachillerato`\n",
        "  - `Licenciatura`\n",
        "  - `Posgrado`\n",
        "- `Salario`: Amount in Mexican pesos that you request. This variable is the one that is intended to be predicted in this exercise.\n",
        "\n",
        "### To do:\n",
        "- Model linear regression correctly:\n",
        "   - make _dummies_ to categorical values,\n",
        "   - \"split\" _dataframe_,\n",
        "   - standardize sets,\n",
        "   - apply model,\n",
        "   - train with training set,\n",
        "   - predict with set of tests.\n",
        "\n",
        "\n",
        "- Apply at least two metrics:\n",
        "   - **MSE**,\n",
        "   - **RMSE** or\n",
        "   - **R2**.\n"
      ],
      "metadata": {
        "id": "UuD9OwgzmKqf"
      }
    },
    {
      "cell_type": "code",
      "source": [
        "from google.colab import drive\n",
        "drive.mount('/content/drive')"
      ],
      "metadata": {
        "colab": {
          "base_uri": "https://localhost:8080/"
        },
        "id": "EMNIVgy_M-7U",
        "outputId": "c9774a20-21af-4b3c-c5ad-bb44d589f21b"
      },
      "execution_count": null,
      "outputs": [
        {
          "output_type": "stream",
          "name": "stdout",
          "text": [
            "Mounted at /content/drive\n"
          ]
        }
      ]
    },
    {
      "cell_type": "code",
      "source": [
        "# Import data\n",
        "df = pd.read_csv('/content/drive/MyDrive/1. DataScienci/proyectoModulo_3/rrhh.csv')"
      ],
      "metadata": {
        "id": "0Itu7bvJNF85"
      },
      "execution_count": null,
      "outputs": []
    },
    {
      "cell_type": "code",
      "source": [
        "df.head()"
      ],
      "metadata": {
        "colab": {
          "base_uri": "https://localhost:8080/",
          "height": 206
        },
        "id": "5uwxvhFMNO84",
        "outputId": "fa99f50a-9ae1-44fb-c4de-a4403cd24649"
      },
      "execution_count": null,
      "outputs": [
        {
          "output_type": "execute_result",
          "data": {
            "text/plain": [
              "   Experiencia     Posicion  Hijos  Casado     Educacion  Salario\n",
              "0          0.5     Analista      4       1  Bachillerato    13540\n",
              "1          5.6     Analista      2       0  Licenciatura    31240\n",
              "2         11.7     Analista      1       0  Licenciatura    63880\n",
              "3          5.2     Analista      2       1  Licenciatura    29960\n",
              "4          7.2  Coordinador      2       1  Licenciatura    34710"
            ],
            "text/html": [
              "\n",
              "  <div id=\"df-06e920e8-5e0f-46e9-ae75-48d9496ac947\">\n",
              "    <div class=\"colab-df-container\">\n",
              "      <div>\n",
              "<style scoped>\n",
              "    .dataframe tbody tr th:only-of-type {\n",
              "        vertical-align: middle;\n",
              "    }\n",
              "\n",
              "    .dataframe tbody tr th {\n",
              "        vertical-align: top;\n",
              "    }\n",
              "\n",
              "    .dataframe thead th {\n",
              "        text-align: right;\n",
              "    }\n",
              "</style>\n",
              "<table border=\"1\" class=\"dataframe\">\n",
              "  <thead>\n",
              "    <tr style=\"text-align: right;\">\n",
              "      <th></th>\n",
              "      <th>Experiencia</th>\n",
              "      <th>Posicion</th>\n",
              "      <th>Hijos</th>\n",
              "      <th>Casado</th>\n",
              "      <th>Educacion</th>\n",
              "      <th>Salario</th>\n",
              "    </tr>\n",
              "  </thead>\n",
              "  <tbody>\n",
              "    <tr>\n",
              "      <th>0</th>\n",
              "      <td>0.5</td>\n",
              "      <td>Analista</td>\n",
              "      <td>4</td>\n",
              "      <td>1</td>\n",
              "      <td>Bachillerato</td>\n",
              "      <td>13540</td>\n",
              "    </tr>\n",
              "    <tr>\n",
              "      <th>1</th>\n",
              "      <td>5.6</td>\n",
              "      <td>Analista</td>\n",
              "      <td>2</td>\n",
              "      <td>0</td>\n",
              "      <td>Licenciatura</td>\n",
              "      <td>31240</td>\n",
              "    </tr>\n",
              "    <tr>\n",
              "      <th>2</th>\n",
              "      <td>11.7</td>\n",
              "      <td>Analista</td>\n",
              "      <td>1</td>\n",
              "      <td>0</td>\n",
              "      <td>Licenciatura</td>\n",
              "      <td>63880</td>\n",
              "    </tr>\n",
              "    <tr>\n",
              "      <th>3</th>\n",
              "      <td>5.2</td>\n",
              "      <td>Analista</td>\n",
              "      <td>2</td>\n",
              "      <td>1</td>\n",
              "      <td>Licenciatura</td>\n",
              "      <td>29960</td>\n",
              "    </tr>\n",
              "    <tr>\n",
              "      <th>4</th>\n",
              "      <td>7.2</td>\n",
              "      <td>Coordinador</td>\n",
              "      <td>2</td>\n",
              "      <td>1</td>\n",
              "      <td>Licenciatura</td>\n",
              "      <td>34710</td>\n",
              "    </tr>\n",
              "  </tbody>\n",
              "</table>\n",
              "</div>\n",
              "      <button class=\"colab-df-convert\" onclick=\"convertToInteractive('df-06e920e8-5e0f-46e9-ae75-48d9496ac947')\"\n",
              "              title=\"Convert this dataframe to an interactive table.\"\n",
              "              style=\"display:none;\">\n",
              "        \n",
              "  <svg xmlns=\"http://www.w3.org/2000/svg\" height=\"24px\"viewBox=\"0 0 24 24\"\n",
              "       width=\"24px\">\n",
              "    <path d=\"M0 0h24v24H0V0z\" fill=\"none\"/>\n",
              "    <path d=\"M18.56 5.44l.94 2.06.94-2.06 2.06-.94-2.06-.94-.94-2.06-.94 2.06-2.06.94zm-11 1L8.5 8.5l.94-2.06 2.06-.94-2.06-.94L8.5 2.5l-.94 2.06-2.06.94zm10 10l.94 2.06.94-2.06 2.06-.94-2.06-.94-.94-2.06-.94 2.06-2.06.94z\"/><path d=\"M17.41 7.96l-1.37-1.37c-.4-.4-.92-.59-1.43-.59-.52 0-1.04.2-1.43.59L10.3 9.45l-7.72 7.72c-.78.78-.78 2.05 0 2.83L4 21.41c.39.39.9.59 1.41.59.51 0 1.02-.2 1.41-.59l7.78-7.78 2.81-2.81c.8-.78.8-2.07 0-2.86zM5.41 20L4 18.59l7.72-7.72 1.47 1.35L5.41 20z\"/>\n",
              "  </svg>\n",
              "      </button>\n",
              "      \n",
              "  <style>\n",
              "    .colab-df-container {\n",
              "      display:flex;\n",
              "      flex-wrap:wrap;\n",
              "      gap: 12px;\n",
              "    }\n",
              "\n",
              "    .colab-df-convert {\n",
              "      background-color: #E8F0FE;\n",
              "      border: none;\n",
              "      border-radius: 50%;\n",
              "      cursor: pointer;\n",
              "      display: none;\n",
              "      fill: #1967D2;\n",
              "      height: 32px;\n",
              "      padding: 0 0 0 0;\n",
              "      width: 32px;\n",
              "    }\n",
              "\n",
              "    .colab-df-convert:hover {\n",
              "      background-color: #E2EBFA;\n",
              "      box-shadow: 0px 1px 2px rgba(60, 64, 67, 0.3), 0px 1px 3px 1px rgba(60, 64, 67, 0.15);\n",
              "      fill: #174EA6;\n",
              "    }\n",
              "\n",
              "    [theme=dark] .colab-df-convert {\n",
              "      background-color: #3B4455;\n",
              "      fill: #D2E3FC;\n",
              "    }\n",
              "\n",
              "    [theme=dark] .colab-df-convert:hover {\n",
              "      background-color: #434B5C;\n",
              "      box-shadow: 0px 1px 3px 1px rgba(0, 0, 0, 0.15);\n",
              "      filter: drop-shadow(0px 1px 2px rgba(0, 0, 0, 0.3));\n",
              "      fill: #FFFFFF;\n",
              "    }\n",
              "  </style>\n",
              "\n",
              "      <script>\n",
              "        const buttonEl =\n",
              "          document.querySelector('#df-06e920e8-5e0f-46e9-ae75-48d9496ac947 button.colab-df-convert');\n",
              "        buttonEl.style.display =\n",
              "          google.colab.kernel.accessAllowed ? 'block' : 'none';\n",
              "\n",
              "        async function convertToInteractive(key) {\n",
              "          const element = document.querySelector('#df-06e920e8-5e0f-46e9-ae75-48d9496ac947');\n",
              "          const dataTable =\n",
              "            await google.colab.kernel.invokeFunction('convertToInteractive',\n",
              "                                                     [key], {});\n",
              "          if (!dataTable) return;\n",
              "\n",
              "          const docLinkHtml = 'Like what you see? Visit the ' +\n",
              "            '<a target=\"_blank\" href=https://colab.research.google.com/notebooks/data_table.ipynb>data table notebook</a>'\n",
              "            + ' to learn more about interactive tables.';\n",
              "          element.innerHTML = '';\n",
              "          dataTable['output_type'] = 'display_data';\n",
              "          await google.colab.output.renderOutput(dataTable, element);\n",
              "          const docLink = document.createElement('div');\n",
              "          docLink.innerHTML = docLinkHtml;\n",
              "          element.appendChild(docLink);\n",
              "        }\n",
              "      </script>\n",
              "    </div>\n",
              "  </div>\n",
              "  "
            ]
          },
          "metadata": {},
          "execution_count": 4
        }
      ]
    },
    {
      "cell_type": "code",
      "source": [
        "#Create dummy variables for categorical values\n",
        "df = pd.get_dummies(data=df, columns=['Posicion', 'Hijos', 'Educacion'])\n",
        "df.head()"
      ],
      "metadata": {
        "colab": {
          "base_uri": "https://localhost:8080/",
          "height": 270
        },
        "id": "4GjNBD-1OSF1",
        "outputId": "f686e8b8-e686-40ee-f751-bdcc75a3fa18"
      },
      "execution_count": null,
      "outputs": [
        {
          "output_type": "execute_result",
          "data": {
            "text/plain": [
              "   Experiencia  Casado  Salario  Posicion_Analista  Posicion_Coordinador  \\\n",
              "0          0.5       1    13540                  1                     0   \n",
              "1          5.6       0    31240                  1                     0   \n",
              "2         11.7       0    63880                  1                     0   \n",
              "3          5.2       1    29960                  1                     0   \n",
              "4          7.2       1    34710                  0                     1   \n",
              "\n",
              "   Posicion_Gerente  Hijos_0  Hijos_1  Hijos_2  Hijos_3  Hijos_4  \\\n",
              "0                 0        0        0        0        0        1   \n",
              "1                 0        0        0        1        0        0   \n",
              "2                 0        0        1        0        0        0   \n",
              "3                 0        0        0        1        0        0   \n",
              "4                 0        0        0        1        0        0   \n",
              "\n",
              "   Educacion_Bachillerato  Educacion_Licenciatura  Educacion_Posgrado  \n",
              "0                       1                       0                   0  \n",
              "1                       0                       1                   0  \n",
              "2                       0                       1                   0  \n",
              "3                       0                       1                   0  \n",
              "4                       0                       1                   0  "
            ],
            "text/html": [
              "\n",
              "  <div id=\"df-9c3e3b52-61d3-4087-b497-9b0ddd78b5d4\">\n",
              "    <div class=\"colab-df-container\">\n",
              "      <div>\n",
              "<style scoped>\n",
              "    .dataframe tbody tr th:only-of-type {\n",
              "        vertical-align: middle;\n",
              "    }\n",
              "\n",
              "    .dataframe tbody tr th {\n",
              "        vertical-align: top;\n",
              "    }\n",
              "\n",
              "    .dataframe thead th {\n",
              "        text-align: right;\n",
              "    }\n",
              "</style>\n",
              "<table border=\"1\" class=\"dataframe\">\n",
              "  <thead>\n",
              "    <tr style=\"text-align: right;\">\n",
              "      <th></th>\n",
              "      <th>Experiencia</th>\n",
              "      <th>Casado</th>\n",
              "      <th>Salario</th>\n",
              "      <th>Posicion_Analista</th>\n",
              "      <th>Posicion_Coordinador</th>\n",
              "      <th>Posicion_Gerente</th>\n",
              "      <th>Hijos_0</th>\n",
              "      <th>Hijos_1</th>\n",
              "      <th>Hijos_2</th>\n",
              "      <th>Hijos_3</th>\n",
              "      <th>Hijos_4</th>\n",
              "      <th>Educacion_Bachillerato</th>\n",
              "      <th>Educacion_Licenciatura</th>\n",
              "      <th>Educacion_Posgrado</th>\n",
              "    </tr>\n",
              "  </thead>\n",
              "  <tbody>\n",
              "    <tr>\n",
              "      <th>0</th>\n",
              "      <td>0.5</td>\n",
              "      <td>1</td>\n",
              "      <td>13540</td>\n",
              "      <td>1</td>\n",
              "      <td>0</td>\n",
              "      <td>0</td>\n",
              "      <td>0</td>\n",
              "      <td>0</td>\n",
              "      <td>0</td>\n",
              "      <td>0</td>\n",
              "      <td>1</td>\n",
              "      <td>1</td>\n",
              "      <td>0</td>\n",
              "      <td>0</td>\n",
              "    </tr>\n",
              "    <tr>\n",
              "      <th>1</th>\n",
              "      <td>5.6</td>\n",
              "      <td>0</td>\n",
              "      <td>31240</td>\n",
              "      <td>1</td>\n",
              "      <td>0</td>\n",
              "      <td>0</td>\n",
              "      <td>0</td>\n",
              "      <td>0</td>\n",
              "      <td>1</td>\n",
              "      <td>0</td>\n",
              "      <td>0</td>\n",
              "      <td>0</td>\n",
              "      <td>1</td>\n",
              "      <td>0</td>\n",
              "    </tr>\n",
              "    <tr>\n",
              "      <th>2</th>\n",
              "      <td>11.7</td>\n",
              "      <td>0</td>\n",
              "      <td>63880</td>\n",
              "      <td>1</td>\n",
              "      <td>0</td>\n",
              "      <td>0</td>\n",
              "      <td>0</td>\n",
              "      <td>1</td>\n",
              "      <td>0</td>\n",
              "      <td>0</td>\n",
              "      <td>0</td>\n",
              "      <td>0</td>\n",
              "      <td>1</td>\n",
              "      <td>0</td>\n",
              "    </tr>\n",
              "    <tr>\n",
              "      <th>3</th>\n",
              "      <td>5.2</td>\n",
              "      <td>1</td>\n",
              "      <td>29960</td>\n",
              "      <td>1</td>\n",
              "      <td>0</td>\n",
              "      <td>0</td>\n",
              "      <td>0</td>\n",
              "      <td>0</td>\n",
              "      <td>1</td>\n",
              "      <td>0</td>\n",
              "      <td>0</td>\n",
              "      <td>0</td>\n",
              "      <td>1</td>\n",
              "      <td>0</td>\n",
              "    </tr>\n",
              "    <tr>\n",
              "      <th>4</th>\n",
              "      <td>7.2</td>\n",
              "      <td>1</td>\n",
              "      <td>34710</td>\n",
              "      <td>0</td>\n",
              "      <td>1</td>\n",
              "      <td>0</td>\n",
              "      <td>0</td>\n",
              "      <td>0</td>\n",
              "      <td>1</td>\n",
              "      <td>0</td>\n",
              "      <td>0</td>\n",
              "      <td>0</td>\n",
              "      <td>1</td>\n",
              "      <td>0</td>\n",
              "    </tr>\n",
              "  </tbody>\n",
              "</table>\n",
              "</div>\n",
              "      <button class=\"colab-df-convert\" onclick=\"convertToInteractive('df-9c3e3b52-61d3-4087-b497-9b0ddd78b5d4')\"\n",
              "              title=\"Convert this dataframe to an interactive table.\"\n",
              "              style=\"display:none;\">\n",
              "        \n",
              "  <svg xmlns=\"http://www.w3.org/2000/svg\" height=\"24px\"viewBox=\"0 0 24 24\"\n",
              "       width=\"24px\">\n",
              "    <path d=\"M0 0h24v24H0V0z\" fill=\"none\"/>\n",
              "    <path d=\"M18.56 5.44l.94 2.06.94-2.06 2.06-.94-2.06-.94-.94-2.06-.94 2.06-2.06.94zm-11 1L8.5 8.5l.94-2.06 2.06-.94-2.06-.94L8.5 2.5l-.94 2.06-2.06.94zm10 10l.94 2.06.94-2.06 2.06-.94-2.06-.94-.94-2.06-.94 2.06-2.06.94z\"/><path d=\"M17.41 7.96l-1.37-1.37c-.4-.4-.92-.59-1.43-.59-.52 0-1.04.2-1.43.59L10.3 9.45l-7.72 7.72c-.78.78-.78 2.05 0 2.83L4 21.41c.39.39.9.59 1.41.59.51 0 1.02-.2 1.41-.59l7.78-7.78 2.81-2.81c.8-.78.8-2.07 0-2.86zM5.41 20L4 18.59l7.72-7.72 1.47 1.35L5.41 20z\"/>\n",
              "  </svg>\n",
              "      </button>\n",
              "      \n",
              "  <style>\n",
              "    .colab-df-container {\n",
              "      display:flex;\n",
              "      flex-wrap:wrap;\n",
              "      gap: 12px;\n",
              "    }\n",
              "\n",
              "    .colab-df-convert {\n",
              "      background-color: #E8F0FE;\n",
              "      border: none;\n",
              "      border-radius: 50%;\n",
              "      cursor: pointer;\n",
              "      display: none;\n",
              "      fill: #1967D2;\n",
              "      height: 32px;\n",
              "      padding: 0 0 0 0;\n",
              "      width: 32px;\n",
              "    }\n",
              "\n",
              "    .colab-df-convert:hover {\n",
              "      background-color: #E2EBFA;\n",
              "      box-shadow: 0px 1px 2px rgba(60, 64, 67, 0.3), 0px 1px 3px 1px rgba(60, 64, 67, 0.15);\n",
              "      fill: #174EA6;\n",
              "    }\n",
              "\n",
              "    [theme=dark] .colab-df-convert {\n",
              "      background-color: #3B4455;\n",
              "      fill: #D2E3FC;\n",
              "    }\n",
              "\n",
              "    [theme=dark] .colab-df-convert:hover {\n",
              "      background-color: #434B5C;\n",
              "      box-shadow: 0px 1px 3px 1px rgba(0, 0, 0, 0.15);\n",
              "      filter: drop-shadow(0px 1px 2px rgba(0, 0, 0, 0.3));\n",
              "      fill: #FFFFFF;\n",
              "    }\n",
              "  </style>\n",
              "\n",
              "      <script>\n",
              "        const buttonEl =\n",
              "          document.querySelector('#df-9c3e3b52-61d3-4087-b497-9b0ddd78b5d4 button.colab-df-convert');\n",
              "        buttonEl.style.display =\n",
              "          google.colab.kernel.accessAllowed ? 'block' : 'none';\n",
              "\n",
              "        async function convertToInteractive(key) {\n",
              "          const element = document.querySelector('#df-9c3e3b52-61d3-4087-b497-9b0ddd78b5d4');\n",
              "          const dataTable =\n",
              "            await google.colab.kernel.invokeFunction('convertToInteractive',\n",
              "                                                     [key], {});\n",
              "          if (!dataTable) return;\n",
              "\n",
              "          const docLinkHtml = 'Like what you see? Visit the ' +\n",
              "            '<a target=\"_blank\" href=https://colab.research.google.com/notebooks/data_table.ipynb>data table notebook</a>'\n",
              "            + ' to learn more about interactive tables.';\n",
              "          element.innerHTML = '';\n",
              "          dataTable['output_type'] = 'display_data';\n",
              "          await google.colab.output.renderOutput(dataTable, element);\n",
              "          const docLink = document.createElement('div');\n",
              "          docLink.innerHTML = docLinkHtml;\n",
              "          element.appendChild(docLink);\n",
              "        }\n",
              "      </script>\n",
              "    </div>\n",
              "  </div>\n",
              "  "
            ]
          },
          "metadata": {},
          "execution_count": 5
        }
      ]
    },
    {
      "cell_type": "code",
      "source": [
        "#The correlation of our objective variable with the other variables is seen\n",
        "df.corr()['Salario'].sort_values(ascending = False)"
      ],
      "metadata": {
        "colab": {
          "base_uri": "https://localhost:8080/"
        },
        "id": "gYyr33awPfqb",
        "outputId": "4ced1b57-a12c-4dfa-aa00-4c3f58f5ee10"
      },
      "execution_count": null,
      "outputs": [
        {
          "output_type": "execute_result",
          "data": {
            "text/plain": [
              "Salario                   1.000000\n",
              "Experiencia               0.663780\n",
              "Posicion_Gerente          0.394371\n",
              "Educacion_Posgrado        0.163286\n",
              "Posicion_Coordinador      0.160906\n",
              "Educacion_Licenciatura    0.135846\n",
              "Hijos_3                   0.128191\n",
              "Hijos_4                   0.119430\n",
              "Casado                    0.085462\n",
              "Hijos_2                   0.020512\n",
              "Hijos_1                  -0.039074\n",
              "Hijos_0                  -0.151351\n",
              "Educacion_Bachillerato   -0.229514\n",
              "Posicion_Analista        -0.369587\n",
              "Name: Salario, dtype: float64"
            ]
          },
          "metadata": {},
          "execution_count": 6
        }
      ]
    },
    {
      "cell_type": "code",
      "source": [
        "#Data is standardized\n",
        "X = df.drop(columns = 'Salario')\n",
        "y = df['Salario']\n",
        "media_X = np.mean(X)\n",
        "X = X - media_X\n",
        "std_X = np.std(X)\n",
        "X = X / std_X"
      ],
      "metadata": {
        "id": "Ks-DN7JvTZyE"
      },
      "execution_count": null,
      "outputs": []
    },
    {
      "cell_type": "code",
      "source": [
        "X.head()"
      ],
      "metadata": {
        "colab": {
          "base_uri": "https://localhost:8080/",
          "height": 270
        },
        "id": "MNWHTHnuTkNK",
        "outputId": "f53cc9c5-6f07-4996-c04d-4125599fe780"
      },
      "execution_count": null,
      "outputs": [
        {
          "output_type": "execute_result",
          "data": {
            "text/plain": [
              "   Experiencia    Casado  Posicion_Analista  Posicion_Coordinador  \\\n",
              "0    -2.296374  0.825029           0.515580             -0.421730   \n",
              "1    -0.316808 -1.212079           0.515580             -0.421730   \n",
              "2     2.050908 -1.212079           0.515580             -0.421730   \n",
              "3    -0.472068  0.825029           0.515580             -0.421730   \n",
              "4     0.304232  0.825029          -1.939563              2.371185   \n",
              "\n",
              "   Posicion_Gerente  Hijos_0   Hijos_1   Hijos_2   Hijos_3   Hijos_4  \\\n",
              "0         -0.250398 -0.57889 -0.703398 -0.501562 -0.416784  3.673248   \n",
              "1         -0.250398 -0.57889 -0.703398  1.993771 -0.416784 -0.272239   \n",
              "2         -0.250398 -0.57889  1.421671 -0.501562 -0.416784 -0.272239   \n",
              "3         -0.250398 -0.57889 -0.703398  1.993771 -0.416784 -0.272239   \n",
              "4         -0.250398 -0.57889 -0.703398  1.993771 -0.416784 -0.272239   \n",
              "\n",
              "   Educacion_Bachillerato  Educacion_Licenciatura  Educacion_Posgrado  \n",
              "0                0.939808               -0.764713           -0.333333  \n",
              "1               -1.064047                1.307680           -0.333333  \n",
              "2               -1.064047                1.307680           -0.333333  \n",
              "3               -1.064047                1.307680           -0.333333  \n",
              "4               -1.064047                1.307680           -0.333333  "
            ],
            "text/html": [
              "\n",
              "  <div id=\"df-7c0ffd49-fcee-4def-a01a-8ded439e90f1\">\n",
              "    <div class=\"colab-df-container\">\n",
              "      <div>\n",
              "<style scoped>\n",
              "    .dataframe tbody tr th:only-of-type {\n",
              "        vertical-align: middle;\n",
              "    }\n",
              "\n",
              "    .dataframe tbody tr th {\n",
              "        vertical-align: top;\n",
              "    }\n",
              "\n",
              "    .dataframe thead th {\n",
              "        text-align: right;\n",
              "    }\n",
              "</style>\n",
              "<table border=\"1\" class=\"dataframe\">\n",
              "  <thead>\n",
              "    <tr style=\"text-align: right;\">\n",
              "      <th></th>\n",
              "      <th>Experiencia</th>\n",
              "      <th>Casado</th>\n",
              "      <th>Posicion_Analista</th>\n",
              "      <th>Posicion_Coordinador</th>\n",
              "      <th>Posicion_Gerente</th>\n",
              "      <th>Hijos_0</th>\n",
              "      <th>Hijos_1</th>\n",
              "      <th>Hijos_2</th>\n",
              "      <th>Hijos_3</th>\n",
              "      <th>Hijos_4</th>\n",
              "      <th>Educacion_Bachillerato</th>\n",
              "      <th>Educacion_Licenciatura</th>\n",
              "      <th>Educacion_Posgrado</th>\n",
              "    </tr>\n",
              "  </thead>\n",
              "  <tbody>\n",
              "    <tr>\n",
              "      <th>0</th>\n",
              "      <td>-2.296374</td>\n",
              "      <td>0.825029</td>\n",
              "      <td>0.515580</td>\n",
              "      <td>-0.421730</td>\n",
              "      <td>-0.250398</td>\n",
              "      <td>-0.57889</td>\n",
              "      <td>-0.703398</td>\n",
              "      <td>-0.501562</td>\n",
              "      <td>-0.416784</td>\n",
              "      <td>3.673248</td>\n",
              "      <td>0.939808</td>\n",
              "      <td>-0.764713</td>\n",
              "      <td>-0.333333</td>\n",
              "    </tr>\n",
              "    <tr>\n",
              "      <th>1</th>\n",
              "      <td>-0.316808</td>\n",
              "      <td>-1.212079</td>\n",
              "      <td>0.515580</td>\n",
              "      <td>-0.421730</td>\n",
              "      <td>-0.250398</td>\n",
              "      <td>-0.57889</td>\n",
              "      <td>-0.703398</td>\n",
              "      <td>1.993771</td>\n",
              "      <td>-0.416784</td>\n",
              "      <td>-0.272239</td>\n",
              "      <td>-1.064047</td>\n",
              "      <td>1.307680</td>\n",
              "      <td>-0.333333</td>\n",
              "    </tr>\n",
              "    <tr>\n",
              "      <th>2</th>\n",
              "      <td>2.050908</td>\n",
              "      <td>-1.212079</td>\n",
              "      <td>0.515580</td>\n",
              "      <td>-0.421730</td>\n",
              "      <td>-0.250398</td>\n",
              "      <td>-0.57889</td>\n",
              "      <td>1.421671</td>\n",
              "      <td>-0.501562</td>\n",
              "      <td>-0.416784</td>\n",
              "      <td>-0.272239</td>\n",
              "      <td>-1.064047</td>\n",
              "      <td>1.307680</td>\n",
              "      <td>-0.333333</td>\n",
              "    </tr>\n",
              "    <tr>\n",
              "      <th>3</th>\n",
              "      <td>-0.472068</td>\n",
              "      <td>0.825029</td>\n",
              "      <td>0.515580</td>\n",
              "      <td>-0.421730</td>\n",
              "      <td>-0.250398</td>\n",
              "      <td>-0.57889</td>\n",
              "      <td>-0.703398</td>\n",
              "      <td>1.993771</td>\n",
              "      <td>-0.416784</td>\n",
              "      <td>-0.272239</td>\n",
              "      <td>-1.064047</td>\n",
              "      <td>1.307680</td>\n",
              "      <td>-0.333333</td>\n",
              "    </tr>\n",
              "    <tr>\n",
              "      <th>4</th>\n",
              "      <td>0.304232</td>\n",
              "      <td>0.825029</td>\n",
              "      <td>-1.939563</td>\n",
              "      <td>2.371185</td>\n",
              "      <td>-0.250398</td>\n",
              "      <td>-0.57889</td>\n",
              "      <td>-0.703398</td>\n",
              "      <td>1.993771</td>\n",
              "      <td>-0.416784</td>\n",
              "      <td>-0.272239</td>\n",
              "      <td>-1.064047</td>\n",
              "      <td>1.307680</td>\n",
              "      <td>-0.333333</td>\n",
              "    </tr>\n",
              "  </tbody>\n",
              "</table>\n",
              "</div>\n",
              "      <button class=\"colab-df-convert\" onclick=\"convertToInteractive('df-7c0ffd49-fcee-4def-a01a-8ded439e90f1')\"\n",
              "              title=\"Convert this dataframe to an interactive table.\"\n",
              "              style=\"display:none;\">\n",
              "        \n",
              "  <svg xmlns=\"http://www.w3.org/2000/svg\" height=\"24px\"viewBox=\"0 0 24 24\"\n",
              "       width=\"24px\">\n",
              "    <path d=\"M0 0h24v24H0V0z\" fill=\"none\"/>\n",
              "    <path d=\"M18.56 5.44l.94 2.06.94-2.06 2.06-.94-2.06-.94-.94-2.06-.94 2.06-2.06.94zm-11 1L8.5 8.5l.94-2.06 2.06-.94-2.06-.94L8.5 2.5l-.94 2.06-2.06.94zm10 10l.94 2.06.94-2.06 2.06-.94-2.06-.94-.94-2.06-.94 2.06-2.06.94z\"/><path d=\"M17.41 7.96l-1.37-1.37c-.4-.4-.92-.59-1.43-.59-.52 0-1.04.2-1.43.59L10.3 9.45l-7.72 7.72c-.78.78-.78 2.05 0 2.83L4 21.41c.39.39.9.59 1.41.59.51 0 1.02-.2 1.41-.59l7.78-7.78 2.81-2.81c.8-.78.8-2.07 0-2.86zM5.41 20L4 18.59l7.72-7.72 1.47 1.35L5.41 20z\"/>\n",
              "  </svg>\n",
              "      </button>\n",
              "      \n",
              "  <style>\n",
              "    .colab-df-container {\n",
              "      display:flex;\n",
              "      flex-wrap:wrap;\n",
              "      gap: 12px;\n",
              "    }\n",
              "\n",
              "    .colab-df-convert {\n",
              "      background-color: #E8F0FE;\n",
              "      border: none;\n",
              "      border-radius: 50%;\n",
              "      cursor: pointer;\n",
              "      display: none;\n",
              "      fill: #1967D2;\n",
              "      height: 32px;\n",
              "      padding: 0 0 0 0;\n",
              "      width: 32px;\n",
              "    }\n",
              "\n",
              "    .colab-df-convert:hover {\n",
              "      background-color: #E2EBFA;\n",
              "      box-shadow: 0px 1px 2px rgba(60, 64, 67, 0.3), 0px 1px 3px 1px rgba(60, 64, 67, 0.15);\n",
              "      fill: #174EA6;\n",
              "    }\n",
              "\n",
              "    [theme=dark] .colab-df-convert {\n",
              "      background-color: #3B4455;\n",
              "      fill: #D2E3FC;\n",
              "    }\n",
              "\n",
              "    [theme=dark] .colab-df-convert:hover {\n",
              "      background-color: #434B5C;\n",
              "      box-shadow: 0px 1px 3px 1px rgba(0, 0, 0, 0.15);\n",
              "      filter: drop-shadow(0px 1px 2px rgba(0, 0, 0, 0.3));\n",
              "      fill: #FFFFFF;\n",
              "    }\n",
              "  </style>\n",
              "\n",
              "      <script>\n",
              "        const buttonEl =\n",
              "          document.querySelector('#df-7c0ffd49-fcee-4def-a01a-8ded439e90f1 button.colab-df-convert');\n",
              "        buttonEl.style.display =\n",
              "          google.colab.kernel.accessAllowed ? 'block' : 'none';\n",
              "\n",
              "        async function convertToInteractive(key) {\n",
              "          const element = document.querySelector('#df-7c0ffd49-fcee-4def-a01a-8ded439e90f1');\n",
              "          const dataTable =\n",
              "            await google.colab.kernel.invokeFunction('convertToInteractive',\n",
              "                                                     [key], {});\n",
              "          if (!dataTable) return;\n",
              "\n",
              "          const docLinkHtml = 'Like what you see? Visit the ' +\n",
              "            '<a target=\"_blank\" href=https://colab.research.google.com/notebooks/data_table.ipynb>data table notebook</a>'\n",
              "            + ' to learn more about interactive tables.';\n",
              "          element.innerHTML = '';\n",
              "          dataTable['output_type'] = 'display_data';\n",
              "          await google.colab.output.renderOutput(dataTable, element);\n",
              "          const docLink = document.createElement('div');\n",
              "          docLink.innerHTML = docLinkHtml;\n",
              "          element.appendChild(docLink);\n",
              "        }\n",
              "      </script>\n",
              "    </div>\n",
              "  </div>\n",
              "  "
            ]
          },
          "metadata": {},
          "execution_count": 8
        }
      ]
    },
    {
      "cell_type": "code",
      "source": [
        "#The model will be split\n",
        "X_train, X_test, y_train, y_test = train_test_split(\n",
        "                                        X,\n",
        "                                        y.values.reshape(-1,1),\n",
        "                                        train_size   = 0.7,\n",
        "                                        random_state = 5,\n",
        "                                        shuffle      = True\n",
        "                                    )"
      ],
      "metadata": {
        "id": "io1-LoB2P61Z"
      },
      "execution_count": null,
      "outputs": []
    },
    {
      "cell_type": "code",
      "source": [
        "#The linear regression model will be used\n",
        "modelo = LinearRegression(normalize=True)\n",
        "#The model is trained\n",
        "modelo.fit(X = X_train, y = y_train)"
      ],
      "metadata": {
        "colab": {
          "base_uri": "https://localhost:8080/"
        },
        "id": "C12lBB-cQtDh",
        "outputId": "c56797d4-f270-4d48-dcb0-be818a917fc9"
      },
      "execution_count": null,
      "outputs": [
        {
          "output_type": "execute_result",
          "data": {
            "text/plain": [
              "LinearRegression(normalize=True)"
            ]
          },
          "metadata": {},
          "execution_count": 10
        }
      ]
    },
    {
      "cell_type": "code",
      "source": [
        "#The coefficients of the model will be extracted\n",
        "df_coeficientes = pd.DataFrame(\n",
        "                        {'predictor': X_train.columns,\n",
        "                         'coef': modelo.coef_.flatten()}\n",
        "                  )"
      ],
      "metadata": {
        "id": "ZmaNqpbxRdjW"
      },
      "execution_count": null,
      "outputs": []
    },
    {
      "cell_type": "code",
      "source": [
        "#The coefficients of the model will be displayed graphically.\n",
        "fig, ax = plt.subplots(figsize=(11, 3.84))\n",
        "ax.stem(df_coeficientes.predictor, df_coeficientes.coef, markerfmt=' ')\n",
        "plt.xticks(rotation=90, ha='right', size=5)\n",
        "ax.set_xlabel('variable')\n",
        "ax.set_ylabel('coeficientes')\n",
        "ax.set_title('Coeficientes del modelo');"
      ],
      "metadata": {
        "colab": {
          "base_uri": "https://localhost:8080/",
          "height": 336
        },
        "id": "6rTG-peVRfKX",
        "outputId": "6c2f6b79-483d-4bc7-8c51-d09e9f0163fa"
      },
      "execution_count": null,
      "outputs": [
        {
          "output_type": "display_data",
          "data": {
            "text/plain": [
              "<Figure size 792x276.48 with 1 Axes>"
            ],
            "image/png": "[encoded data removed]"
          },
          "metadata": {
            "needs_background": "light"
          }
        }
      ]
    },
    {
      "cell_type": "code",
      "source": [
        "#Coefficient of each variable\n",
        "modelo.coef_[0]"
      ],
      "metadata": {
        "colab": {
          "base_uri": "https://localhost:8080/"
        },
        "id": "r1DlMKylRzC7",
        "outputId": "ca5f45ad-8f73-41ff-a99e-de571c03e8c1"
      },
      "execution_count": null,
      "outputs": [
        {
          "output_type": "execute_result",
          "data": {
            "text/plain": [
              "array([ 7.95652438e+03,  1.04189259e+02, -9.96885849e+16, -8.76323699e+16,\n",
              "       -5.76690843e+16, -2.11152517e+16, -2.29163554e+16, -1.95159597e+16,\n",
              "       -1.72929525e+16, -1.23429190e+16, -8.46158845e+16, -8.18174763e+16,\n",
              "       -5.08673920e+16])"
            ]
          },
          "metadata": {},
          "execution_count": 13
        }
      ]
    },
    {
      "cell_type": "code",
      "source": [
        "#model intercept\n",
        "modelo.intercept_"
      ],
      "metadata": {
        "colab": {
          "base_uri": "https://localhost:8080/"
        },
        "id": "fu8Zo4D_SGvJ",
        "outputId": "3003859a-1c6e-4724-d716-9c4dbae2fbfa"
      },
      "execution_count": null,
      "outputs": [
        {
          "output_type": "execute_result",
          "data": {
            "text/plain": [
              "array([31123.71071429])"
            ]
          },
          "metadata": {},
          "execution_count": 14
        }
      ]
    },
    {
      "cell_type": "code",
      "source": [
        "predicciones = modelo.predict(X_test)"
      ],
      "metadata": {
        "id": "G9NobhMEUG2e"
      },
      "execution_count": null,
      "outputs": []
    },
    {
      "cell_type": "code",
      "source": [
        "predicciones = predicciones.flatten()\n",
        "predicciones[:5]"
      ],
      "metadata": {
        "colab": {
          "base_uri": "https://localhost:8080/"
        },
        "id": "HcijB4d1SRZP",
        "outputId": "04807cb7-7d40-4008-b38b-b3ef4940032e"
      },
      "execution_count": null,
      "outputs": [
        {
          "output_type": "execute_result",
          "data": {
            "text/plain": [
              "array([24539.71071429, 24915.71071429, 29475.71071429, 43475.71071429,\n",
              "       34151.71071429])"
            ]
          },
          "metadata": {},
          "execution_count": 16
        }
      ]
    },
    {
      "cell_type": "code",
      "source": [
        "comp = pd.DataFrame({'Real': y_test.flatten(),\n",
        "                     'Predicción': predicciones})\n",
        "comp.head(1000)"
      ],
      "metadata": {
        "colab": {
          "base_uri": "https://localhost:8080/",
          "height": 424
        },
        "id": "z4llJpSKUzbU",
        "outputId": "efca5a86-78ba-49d7-fc07-d4a0378c7d31"
      },
      "execution_count": null,
      "outputs": [
        {
          "output_type": "execute_result",
          "data": {
            "text/plain": [
              "      Real    Predicción\n",
              "0    20620  24539.710714\n",
              "1    23280  24915.710714\n",
              "2    20320  29475.710714\n",
              "3    35140  43475.710714\n",
              "4    35890  34151.710714\n",
              "..     ...           ...\n",
              "295  24210  37915.710714\n",
              "296  39830  40907.710714\n",
              "297  27700  32747.710714\n",
              "298  24950  23611.710714\n",
              "299  32880  33075.710714\n",
              "\n",
              "[300 rows x 2 columns]"
            ],
            "text/html": [
              "\n",
              "  <div id=\"df-c03a19f5-2594-48ff-883f-3df7ff4e5b1c\">\n",
              "    <div class=\"colab-df-container\">\n",
              "      <div>\n",
              "<style scoped>\n",
              "    .dataframe tbody tr th:only-of-type {\n",
              "        vertical-align: middle;\n",
              "    }\n",
              "\n",
              "    .dataframe tbody tr th {\n",
              "        vertical-align: top;\n",
              "    }\n",
              "\n",
              "    .dataframe thead th {\n",
              "        text-align: right;\n",
              "    }\n",
              "</style>\n",
              "<table border=\"1\" class=\"dataframe\">\n",
              "  <thead>\n",
              "    <tr style=\"text-align: right;\">\n",
              "      <th></th>\n",
              "      <th>Real</th>\n",
              "      <th>Predicción</th>\n",
              "    </tr>\n",
              "  </thead>\n",
              "  <tbody>\n",
              "    <tr>\n",
              "      <th>0</th>\n",
              "      <td>20620</td>\n",
              "      <td>24539.710714</td>\n",
              "    </tr>\n",
              "    <tr>\n",
              "      <th>1</th>\n",
              "      <td>23280</td>\n",
              "      <td>24915.710714</td>\n",
              "    </tr>\n",
              "    <tr>\n",
              "      <th>2</th>\n",
              "      <td>20320</td>\n",
              "      <td>29475.710714</td>\n",
              "    </tr>\n",
              "    <tr>\n",
              "      <th>3</th>\n",
              "      <td>35140</td>\n",
              "      <td>43475.710714</td>\n",
              "    </tr>\n",
              "    <tr>\n",
              "      <th>4</th>\n",
              "      <td>35890</td>\n",
              "      <td>34151.710714</td>\n",
              "    </tr>\n",
              "    <tr>\n",
              "      <th>...</th>\n",
              "      <td>...</td>\n",
              "      <td>...</td>\n",
              "    </tr>\n",
              "    <tr>\n",
              "      <th>295</th>\n",
              "      <td>24210</td>\n",
              "      <td>37915.710714</td>\n",
              "    </tr>\n",
              "    <tr>\n",
              "      <th>296</th>\n",
              "      <td>39830</td>\n",
              "      <td>40907.710714</td>\n",
              "    </tr>\n",
              "    <tr>\n",
              "      <th>297</th>\n",
              "      <td>27700</td>\n",
              "      <td>32747.710714</td>\n",
              "    </tr>\n",
              "    <tr>\n",
              "      <th>298</th>\n",
              "      <td>24950</td>\n",
              "      <td>23611.710714</td>\n",
              "    </tr>\n",
              "    <tr>\n",
              "      <th>299</th>\n",
              "      <td>32880</td>\n",
              "      <td>33075.710714</td>\n",
              "    </tr>\n",
              "  </tbody>\n",
              "</table>\n",
              "<p>300 rows × 2 columns</p>\n",
              "</div>\n",
              "      <button class=\"colab-df-convert\" onclick=\"convertToInteractive('df-c03a19f5-2594-48ff-883f-3df7ff4e5b1c')\"\n",
              "              title=\"Convert this dataframe to an interactive table.\"\n",
              "              style=\"display:none;\">\n",
              "        \n",
              "  <svg xmlns=\"http://www.w3.org/2000/svg\" height=\"24px\"viewBox=\"0 0 24 24\"\n",
              "       width=\"24px\">\n",
              "    <path d=\"M0 0h24v24H0V0z\" fill=\"none\"/>\n",
              "    <path d=\"M18.56 5.44l.94 2.06.94-2.06 2.06-.94-2.06-.94-.94-2.06-.94 2.06-2.06.94zm-11 1L8.5 8.5l.94-2.06 2.06-.94-2.06-.94L8.5 2.5l-.94 2.06-2.06.94zm10 10l.94 2.06.94-2.06 2.06-.94-2.06-.94-.94-2.06-.94 2.06-2.06.94z\"/><path d=\"M17.41 7.96l-1.37-1.37c-.4-.4-.92-.59-1.43-.59-.52 0-1.04.2-1.43.59L10.3 9.45l-7.72 7.72c-.78.78-.78 2.05 0 2.83L4 21.41c.39.39.9.59 1.41.59.51 0 1.02-.2 1.41-.59l7.78-7.78 2.81-2.81c.8-.78.8-2.07 0-2.86zM5.41 20L4 18.59l7.72-7.72 1.47 1.35L5.41 20z\"/>\n",
              "  </svg>\n",
              "      </button>\n",
              "      \n",
              "  <style>\n",
              "    .colab-df-container {\n",
              "      display:flex;\n",
              "      flex-wrap:wrap;\n",
              "      gap: 12px;\n",
              "    }\n",
              "\n",
              "    .colab-df-convert {\n",
              "      background-color: #E8F0FE;\n",
              "      border: none;\n",
              "      border-radius: 50%;\n",
              "      cursor: pointer;\n",
              "      display: none;\n",
              "      fill: #1967D2;\n",
              "      height: 32px;\n",
              "      padding: 0 0 0 0;\n",
              "      width: 32px;\n",
              "    }\n",
              "\n",
              "    .colab-df-convert:hover {\n",
              "      background-color: #E2EBFA;\n",
              "      box-shadow: 0px 1px 2px rgba(60, 64, 67, 0.3), 0px 1px 3px 1px rgba(60, 64, 67, 0.15);\n",
              "      fill: #174EA6;\n",
              "    }\n",
              "\n",
              "    [theme=dark] .colab-df-convert {\n",
              "      background-color: #3B4455;\n",
              "      fill: #D2E3FC;\n",
              "    }\n",
              "\n",
              "    [theme=dark] .colab-df-convert:hover {\n",
              "      background-color: #434B5C;\n",
              "      box-shadow: 0px 1px 3px 1px rgba(0, 0, 0, 0.15);\n",
              "      filter: drop-shadow(0px 1px 2px rgba(0, 0, 0, 0.3));\n",
              "      fill: #FFFFFF;\n",
              "    }\n",
              "  </style>\n",
              "\n",
              "      <script>\n",
              "        const buttonEl =\n",
              "          document.querySelector('#df-c03a19f5-2594-48ff-883f-3df7ff4e5b1c button.colab-df-convert');\n",
              "        buttonEl.style.display =\n",
              "          google.colab.kernel.accessAllowed ? 'block' : 'none';\n",
              "\n",
              "        async function convertToInteractive(key) {\n",
              "          const element = document.querySelector('#df-c03a19f5-2594-48ff-883f-3df7ff4e5b1c');\n",
              "          const dataTable =\n",
              "            await google.colab.kernel.invokeFunction('convertToInteractive',\n",
              "                                                     [key], {});\n",
              "          if (!dataTable) return;\n",
              "\n",
              "          const docLinkHtml = 'Like what you see? Visit the ' +\n",
              "            '<a target=\"_blank\" href=https://colab.research.google.com/notebooks/data_table.ipynb>data table notebook</a>'\n",
              "            + ' to learn more about interactive tables.';\n",
              "          element.innerHTML = '';\n",
              "          dataTable['output_type'] = 'display_data';\n",
              "          await google.colab.output.renderOutput(dataTable, element);\n",
              "          const docLink = document.createElement('div');\n",
              "          docLink.innerHTML = docLinkHtml;\n",
              "          element.appendChild(docLink);\n",
              "        }\n",
              "      </script>\n",
              "    </div>\n",
              "  </div>\n",
              "  "
            ]
          },
          "metadata": {},
          "execution_count": 17
        }
      ]
    },
    {
      "cell_type": "code",
      "source": [
        "#The MSE is calculated\n",
        "mse_ols = mean_squared_error(\n",
        "            y_true  = y_test,\n",
        "            y_pred  = predicciones,\n",
        "            squared = True\n",
        "           )\n",
        "print(\"\")\n",
        "print(f\"El error cuadrático medio de test es: {mse_ols}\")"
      ],
      "metadata": {
        "colab": {
          "base_uri": "https://localhost:8080/"
        },
        "id": "9w98eHD2JPIJ",
        "outputId": "031ab6a2-673b-450b-ad4d-9c85e4260588"
      },
      "execution_count": null,
      "outputs": [
        {
          "output_type": "stream",
          "name": "stdout",
          "text": [
            "\n",
            "El error cuadrático medio de test es: 39959362.09430527\n"
          ]
        }
      ]
    },
    {
      "cell_type": "code",
      "source": [
        "#The RMSE is calculated\n",
        "rmse_ols = mean_squared_error(\n",
        "            y_true  = y_test,\n",
        "            y_pred  = predicciones,\n",
        "            squared = False\n",
        "           )\n",
        "print(\"\")\n",
        "print(f\"La raiz del error cuadrático medio de test es: {rmse_ols}\")"
      ],
      "metadata": {
        "colab": {
          "base_uri": "https://localhost:8080/"
        },
        "id": "kQ9zUFjRSRj9",
        "outputId": "56ae550f-3933-4638-fb11-b36b332a66cb"
      },
      "execution_count": null,
      "outputs": [
        {
          "output_type": "stream",
          "name": "stdout",
          "text": [
            "\n",
            "La raiz del error cuadrático medio de test es: 6321.341795402719\n"
          ]
        }
      ]
    },
    {
      "cell_type": "markdown",
      "source": [
        "## These metrics indicate that the predicted values are a bit far from the actual values, meaning that the model is not as efficient as desired. A regularizer will be applied to see if it is possible to lower that error."
      ],
      "metadata": {
        "id": "FhWO7EEWZNCi"
      }
    },
    {
      "cell_type": "code",
      "source": [
        "# Creation and training of the model (with search by CV of the optimal alpha value)\n",
        "a = 400\n",
        "modelo = RidgeCV(\n",
        "            alphas          = np.logspace(-7, 15, a),\n",
        "            fit_intercept   = True,\n",
        "            normalize       = True,\n",
        "            store_cv_values = True\n",
        "         )"
      ],
      "metadata": {
        "id": "lspcBp0IbeGK"
      },
      "execution_count": null,
      "outputs": []
    },
    {
      "cell_type": "code",
      "source": [
        "modelo = modelo.fit(X = X_train, y = y_train)"
      ],
      "metadata": {
        "id": "SkLKFlpebeAM"
      },
      "execution_count": null,
      "outputs": []
    },
    {
      "cell_type": "code",
      "source": [
        "# Evolution of the coefficients as a function of alpha\n",
        "# ==============================================================================\n",
        "alphas = modelo.alphas\n",
        "coefs = []\n",
        "\n",
        "for alpha in alphas:\n",
        "    modelo_temp = Ridge(alpha=alpha, fit_intercept=False, normalize=True)\n",
        "    modelo_temp.fit(X_train, y_train)\n",
        "    coefs.append(modelo_temp.coef_.flatten())\n",
        "\n",
        "fig, ax = plt.subplots(figsize=(7, 3.84))\n",
        "ax.plot(alphas, coefs)\n",
        "ax.set_xscale('log')\n",
        "ax.set_xlabel('alpha')\n",
        "ax.set_ylabel('coeficientes')\n",
        "ax.set_title('Coeficientes del modelo en función de la regularización');\n",
        "plt.axis('tight')\n",
        "plt.show()"
      ],
      "metadata": {
        "colab": {
          "base_uri": "https://localhost:8080/",
          "height": 290
        },
        "id": "zMwdMt5-bd8T",
        "outputId": "317cdff6-d609-402a-a3ea-5f454cfae44e"
      },
      "execution_count": null,
      "outputs": [
        {
          "output_type": "display_data",
          "data": {
            "text/plain": [
              "<Figure size 504x276.48 with 1 Axes>"
            ],
            "image/png": "[encoded data removed]"
          },
          "metadata": {
            "needs_background": "light"
          }
        }
      ]
    },
    {
      "cell_type": "code",
      "source": [
        "# model.cv_values stores the mse of cv for each value of alpha. Have\n",
        "# dimensions (n_samples, n_targets, n_alphas)\n",
        "mse_cv = modelo.cv_values_.reshape((-1, a)).mean(axis=0)\n",
        "mse_sd = modelo.cv_values_.reshape((-1, a)).std(axis=0)"
      ],
      "metadata": {
        "id": "RAG6IpEWbd4b"
      },
      "execution_count": null,
      "outputs": []
    },
    {
      "cell_type": "code",
      "source": [
        "# Apply the square root to convert from mse to rmse\n",
        "rmse_cv = np.sqrt(mse_cv)\n",
        "rmse_sd = np.sqrt(mse_sd)"
      ],
      "metadata": {
        "id": "DGVImGfgbd0h"
      },
      "execution_count": null,
      "outputs": []
    },
    {
      "cell_type": "code",
      "source": [
        "optimo = modelo.alphas[np.argmin(rmse_cv)]"
      ],
      "metadata": {
        "id": "qusRiuoGbdws"
      },
      "execution_count": null,
      "outputs": []
    },
    {
      "cell_type": "code",
      "source": [
        "# Identify the optimum and the optimal + 1std\n",
        "min_rmse     = np.min(rmse_cv)\n",
        "sd_min_rmse  = rmse_sd[np.argmin(rmse_cv)]\n",
        "min_rsme_1sd = np.max(rmse_cv[rmse_cv <= min_rmse + sd_min_rmse])\n",
        "optimo_1sd   = modelo.alphas[rmse_cv == min_rsme_1sd]\n",
        "\n",
        "\n",
        "# Error graph +- 1 standard deviation\n",
        "fig, ax = plt.subplots(figsize=(7, 3.84))\n",
        "ax.plot(modelo.alphas, rmse_cv)\n",
        "ax.fill_between(\n",
        "    modelo.alphas,\n",
        "    rmse_cv + rmse_sd,\n",
        "    rmse_cv - rmse_sd,\n",
        "    alpha=0.2\n",
        ")\n",
        "\n",
        "ax.axvline(\n",
        "    x         = optimo,\n",
        "    c         = \"gray\",\n",
        "    linestyle = '--',\n",
        "    label     = 'óptimo'\n",
        ")\n",
        "\n",
        "ax.axvline(\n",
        "    x         = optimo_1sd,\n",
        "    c         = \"blue\",\n",
        "    linestyle = '--',\n",
        "    label     = 'óptimo_1sd'\n",
        ")\n",
        "ax.set_xscale('log')\n",
        "ax.set_ylim([0,None])\n",
        "ax.set_title('Evolución del error CV en función de la regularización')\n",
        "ax.set_xlabel('alpha')\n",
        "ax.set_ylabel('RMSE')\n",
        "plt.legend();"
      ],
      "metadata": {
        "colab": {
          "base_uri": "https://localhost:8080/",
          "height": 290
        },
        "id": "s6_3xYfBbdsx",
        "outputId": "be2b609c-7b34-43e3-a8a4-040ff9bf1a56"
      },
      "execution_count": null,
      "outputs": [
        {
          "output_type": "display_data",
          "data": {
            "text/plain": [
              "<Figure size 504x276.48 with 1 Axes>"
            ],
            "image/png": "[encoded data removed]"
          },
          "metadata": {
            "needs_background": "light"
          }
        }
      ]
    },
    {
      "cell_type": "code",
      "source": [
        "# Best alpha value found\n",
        "# ==============================================================================\n",
        "print(f\"El mejor parámetro para alpha es: {modelo.alpha_}\")"
      ],
      "metadata": {
        "colab": {
          "base_uri": "https://localhost:8080/"
        },
        "id": "_LrG41vUbdo6",
        "outputId": "3c2a2c08-4c3b-4e31-9799-b312fba93d84"
      },
      "execution_count": null,
      "outputs": [
        {
          "output_type": "stream",
          "name": "stdout",
          "text": [
            "El mejor parámetro para alpha es: 0.005518926834697374\n"
          ]
        }
      ]
    },
    {
      "cell_type": "code",
      "source": [
        "# Model coefficients\n",
        "# ==============================================================================\n",
        "df_coeficientes = pd.DataFrame(\n",
        "                        {'predictor': X_train.columns,\n",
        "                         'coef': modelo.coef_.flatten()}\n",
        "                  )\n",
        "\n",
        "fig, ax = plt.subplots(figsize=(11, 3.84))\n",
        "ax.stem(df_coeficientes.predictor, df_coeficientes.coef, markerfmt=' ')\n",
        "plt.xticks(rotation=90, ha='right', size=5)\n",
        "ax.set_xlabel('variable')\n",
        "ax.set_ylabel('coeficientes')\n",
        "ax.set_title('Coeficientes del modelo');"
      ],
      "metadata": {
        "colab": {
          "base_uri": "https://localhost:8080/",
          "height": 336
        },
        "id": "eqkjcXKQbdks",
        "outputId": "6db878be-521f-4042-b5ab-0d7f2953b3c1"
      },
      "execution_count": null,
      "outputs": [
        {
          "output_type": "display_data",
          "data": {
            "text/plain": [
              "<Figure size 792x276.48 with 1 Axes>"
            ],
            "image/png": "[encoded data removed]"
          },
          "metadata": {
            "needs_background": "light"
          }
        }
      ]
    },
    {
      "cell_type": "code",
      "source": [
        "# Prediction test\n",
        "predicciones1 = modelo.predict(X=X_test)\n",
        "predicciones1 = predicciones1.flatten()\n",
        "predicciones1[:5]"
      ],
      "metadata": {
        "colab": {
          "base_uri": "https://localhost:8080/"
        },
        "id": "Xt1MoSRDbdgK",
        "outputId": "b2cd33f8-48f6-4030-fb8b-7c5e97a307f7"
      },
      "execution_count": null,
      "outputs": [
        {
          "output_type": "execute_result",
          "data": {
            "text/plain": [
              "array([24526.58741504, 24944.70544918, 29449.08538029, 43386.00923994,\n",
              "       34113.39090376])"
            ]
          },
          "metadata": {},
          "execution_count": 29
        }
      ]
    },
    {
      "cell_type": "code",
      "source": [
        "comp = pd.DataFrame({'Real': y_test.flatten(),\n",
        "                     'Predicción': predicciones1})\n",
        "comp.head(5)"
      ],
      "metadata": {
        "colab": {
          "base_uri": "https://localhost:8080/",
          "height": 206
        },
        "id": "x5wunz5XbdbH",
        "outputId": "9be13258-8503-4ce7-9f31-42ea8ed131d0"
      },
      "execution_count": null,
      "outputs": [
        {
          "output_type": "execute_result",
          "data": {
            "text/plain": [
              "    Real    Predicción\n",
              "0  20620  24526.587415\n",
              "1  23280  24944.705449\n",
              "2  20320  29449.085380\n",
              "3  35140  43386.009240\n",
              "4  35890  34113.390904"
            ],
            "text/html": [
              "\n",
              "  <div id=\"df-e53ce959-d0f3-422b-8b81-a80640c6f0f1\">\n",
              "    <div class=\"colab-df-container\">\n",
              "      <div>\n",
              "<style scoped>\n",
              "    .dataframe tbody tr th:only-of-type {\n",
              "        vertical-align: middle;\n",
              "    }\n",
              "\n",
              "    .dataframe tbody tr th {\n",
              "        vertical-align: top;\n",
              "    }\n",
              "\n",
              "    .dataframe thead th {\n",
              "        text-align: right;\n",
              "    }\n",
              "</style>\n",
              "<table border=\"1\" class=\"dataframe\">\n",
              "  <thead>\n",
              "    <tr style=\"text-align: right;\">\n",
              "      <th></th>\n",
              "      <th>Real</th>\n",
              "      <th>Predicción</th>\n",
              "    </tr>\n",
              "  </thead>\n",
              "  <tbody>\n",
              "    <tr>\n",
              "      <th>0</th>\n",
              "      <td>20620</td>\n",
              "      <td>24526.587415</td>\n",
              "    </tr>\n",
              "    <tr>\n",
              "      <th>1</th>\n",
              "      <td>23280</td>\n",
              "      <td>24944.705449</td>\n",
              "    </tr>\n",
              "    <tr>\n",
              "      <th>2</th>\n",
              "      <td>20320</td>\n",
              "      <td>29449.085380</td>\n",
              "    </tr>\n",
              "    <tr>\n",
              "      <th>3</th>\n",
              "      <td>35140</td>\n",
              "      <td>43386.009240</td>\n",
              "    </tr>\n",
              "    <tr>\n",
              "      <th>4</th>\n",
              "      <td>35890</td>\n",
              "      <td>34113.390904</td>\n",
              "    </tr>\n",
              "  </tbody>\n",
              "</table>\n",
              "</div>\n",
              "      <button class=\"colab-df-convert\" onclick=\"convertToInteractive('df-e53ce959-d0f3-422b-8b81-a80640c6f0f1')\"\n",
              "              title=\"Convert this dataframe to an interactive table.\"\n",
              "              style=\"display:none;\">\n",
              "        \n",
              "  <svg xmlns=\"http://www.w3.org/2000/svg\" height=\"24px\"viewBox=\"0 0 24 24\"\n",
              "       width=\"24px\">\n",
              "    <path d=\"M0 0h24v24H0V0z\" fill=\"none\"/>\n",
              "    <path d=\"M18.56 5.44l.94 2.06.94-2.06 2.06-.94-2.06-.94-.94-2.06-.94 2.06-2.06.94zm-11 1L8.5 8.5l.94-2.06 2.06-.94-2.06-.94L8.5 2.5l-.94 2.06-2.06.94zm10 10l.94 2.06.94-2.06 2.06-.94-2.06-.94-.94-2.06-.94 2.06-2.06.94z\"/><path d=\"M17.41 7.96l-1.37-1.37c-.4-.4-.92-.59-1.43-.59-.52 0-1.04.2-1.43.59L10.3 9.45l-7.72 7.72c-.78.78-.78 2.05 0 2.83L4 21.41c.39.39.9.59 1.41.59.51 0 1.02-.2 1.41-.59l7.78-7.78 2.81-2.81c.8-.78.8-2.07 0-2.86zM5.41 20L4 18.59l7.72-7.72 1.47 1.35L5.41 20z\"/>\n",
              "  </svg>\n",
              "      </button>\n",
              "      \n",
              "  <style>\n",
              "    .colab-df-container {\n",
              "      display:flex;\n",
              "      flex-wrap:wrap;\n",
              "      gap: 12px;\n",
              "    }\n",
              "\n",
              "    .colab-df-convert {\n",
              "      background-color: #E8F0FE;\n",
              "      border: none;\n",
              "      border-radius: 50%;\n",
              "      cursor: pointer;\n",
              "      display: none;\n",
              "      fill: #1967D2;\n",
              "      height: 32px;\n",
              "      padding: 0 0 0 0;\n",
              "      width: 32px;\n",
              "    }\n",
              "\n",
              "    .colab-df-convert:hover {\n",
              "      background-color: #E2EBFA;\n",
              "      box-shadow: 0px 1px 2px rgba(60, 64, 67, 0.3), 0px 1px 3px 1px rgba(60, 64, 67, 0.15);\n",
              "      fill: #174EA6;\n",
              "    }\n",
              "\n",
              "    [theme=dark] .colab-df-convert {\n",
              "      background-color: #3B4455;\n",
              "      fill: #D2E3FC;\n",
              "    }\n",
              "\n",
              "    [theme=dark] .colab-df-convert:hover {\n",
              "      background-color: #434B5C;\n",
              "      box-shadow: 0px 1px 3px 1px rgba(0, 0, 0, 0.15);\n",
              "      filter: drop-shadow(0px 1px 2px rgba(0, 0, 0, 0.3));\n",
              "      fill: #FFFFFF;\n",
              "    }\n",
              "  </style>\n",
              "\n",
              "      <script>\n",
              "        const buttonEl =\n",
              "          document.querySelector('#df-e53ce959-d0f3-422b-8b81-a80640c6f0f1 button.colab-df-convert');\n",
              "        buttonEl.style.display =\n",
              "          google.colab.kernel.accessAllowed ? 'block' : 'none';\n",
              "\n",
              "        async function convertToInteractive(key) {\n",
              "          const element = document.querySelector('#df-e53ce959-d0f3-422b-8b81-a80640c6f0f1');\n",
              "          const dataTable =\n",
              "            await google.colab.kernel.invokeFunction('convertToInteractive',\n",
              "                                                     [key], {});\n",
              "          if (!dataTable) return;\n",
              "\n",
              "          const docLinkHtml = 'Like what you see? Visit the ' +\n",
              "            '<a target=\"_blank\" href=https://colab.research.google.com/notebooks/data_table.ipynb>data table notebook</a>'\n",
              "            + ' to learn more about interactive tables.';\n",
              "          element.innerHTML = '';\n",
              "          dataTable['output_type'] = 'display_data';\n",
              "          await google.colab.output.renderOutput(dataTable, element);\n",
              "          const docLink = document.createElement('div');\n",
              "          docLink.innerHTML = docLinkHtml;\n",
              "          element.appendChild(docLink);\n",
              "        }\n",
              "      </script>\n",
              "    </div>\n",
              "  </div>\n",
              "  "
            ]
          },
          "metadata": {},
          "execution_count": 30
        }
      ]
    },
    {
      "cell_type": "code",
      "source": [
        "#Calculate the new RMSE to see if you made a significant change\n",
        "mse_ridge = mean_squared_error(\n",
        "                y_true  = y_test,\n",
        "                y_pred  = predicciones1,\n",
        "                squared = True\n",
        "             )\n",
        "print(\"\")\n",
        "print(f\"El error cuadrático medio de test es: {mse_ridge}\")"
      ],
      "metadata": {
        "colab": {
          "base_uri": "https://localhost:8080/"
        },
        "id": "sCp5bBHEbdVV",
        "outputId": "60656dac-8ae4-400c-e62d-38f0602e7cf6"
      },
      "execution_count": null,
      "outputs": [
        {
          "output_type": "stream",
          "name": "stdout",
          "text": [
            "\n",
            "El error cuadrático medio de test es: 39867499.70413499\n"
          ]
        }
      ]
    },
    {
      "cell_type": "code",
      "source": [
        "#Calculate the new RMSE to see if you made a significant change\n",
        "rmse_ridge = mean_squared_error(\n",
        "                y_true  = y_test,\n",
        "                y_pred  = predicciones1,\n",
        "                squared = False\n",
        "             )\n",
        "print(\"\")\n",
        "print(f\"La raiz del error cuadrático medio de test es: {rmse_ridge}\")"
      ],
      "metadata": {
        "colab": {
          "base_uri": "https://localhost:8080/"
        },
        "id": "3tawU-aebdYL",
        "outputId": "8a9b0989-abbb-4755-8a7f-477b0c5ed512"
      },
      "execution_count": null,
      "outputs": [
        {
          "output_type": "stream",
          "name": "stdout",
          "text": [
            "\n",
            "La raiz del error cuadrático medio de test es: 6314.071563114801\n"
          ]
        }
      ]
    },
    {
      "cell_type": "code",
      "source": [
        "comp = pd.DataFrame({'Real': y_test.flatten(),\n",
        "                     'Prediccion inicial': predicciones,\n",
        "                     'Prediccion reculador': predicciones1})\n",
        "comp.head(5)"
      ],
      "metadata": {
        "colab": {
          "base_uri": "https://localhost:8080/",
          "height": 206
        },
        "id": "vAgV7uYVbdOX",
        "outputId": "b3b18730-cc3a-4a1c-fae4-f7ab0e6ce951"
      },
      "execution_count": null,
      "outputs": [
        {
          "output_type": "execute_result",
          "data": {
            "text/plain": [
              "    Real  Prediccion inicial  Prediccion reculador\n",
              "0  20620        24539.710714          24526.587415\n",
              "1  23280        24915.710714          24944.705449\n",
              "2  20320        29475.710714          29449.085380\n",
              "3  35140        43475.710714          43386.009240\n",
              "4  35890        34151.710714          34113.390904"
            ],
            "text/html": [
              "\n",
              "  <div id=\"df-b4c80849-4e00-4925-af04-efe1bba91c99\">\n",
              "    <div class=\"colab-df-container\">\n",
              "      <div>\n",
              "<style scoped>\n",
              "    .dataframe tbody tr th:only-of-type {\n",
              "        vertical-align: middle;\n",
              "    }\n",
              "\n",
              "    .dataframe tbody tr th {\n",
              "        vertical-align: top;\n",
              "    }\n",
              "\n",
              "    .dataframe thead th {\n",
              "        text-align: right;\n",
              "    }\n",
              "</style>\n",
              "<table border=\"1\" class=\"dataframe\">\n",
              "  <thead>\n",
              "    <tr style=\"text-align: right;\">\n",
              "      <th></th>\n",
              "      <th>Real</th>\n",
              "      <th>Prediccion inicial</th>\n",
              "      <th>Prediccion reculador</th>\n",
              "    </tr>\n",
              "  </thead>\n",
              "  <tbody>\n",
              "    <tr>\n",
              "      <th>0</th>\n",
              "      <td>20620</td>\n",
              "      <td>24539.710714</td>\n",
              "      <td>24526.587415</td>\n",
              "    </tr>\n",
              "    <tr>\n",
              "      <th>1</th>\n",
              "      <td>23280</td>\n",
              "      <td>24915.710714</td>\n",
              "      <td>24944.705449</td>\n",
              "    </tr>\n",
              "    <tr>\n",
              "      <th>2</th>\n",
              "      <td>20320</td>\n",
              "      <td>29475.710714</td>\n",
              "      <td>29449.085380</td>\n",
              "    </tr>\n",
              "    <tr>\n",
              "      <th>3</th>\n",
              "      <td>35140</td>\n",
              "      <td>43475.710714</td>\n",
              "      <td>43386.009240</td>\n",
              "    </tr>\n",
              "    <tr>\n",
              "      <th>4</th>\n",
              "      <td>35890</td>\n",
              "      <td>34151.710714</td>\n",
              "      <td>34113.390904</td>\n",
              "    </tr>\n",
              "  </tbody>\n",
              "</table>\n",
              "</div>\n",
              "      <button class=\"colab-df-convert\" onclick=\"convertToInteractive('df-b4c80849-4e00-4925-af04-efe1bba91c99')\"\n",
              "              title=\"Convert this dataframe to an interactive table.\"\n",
              "              style=\"display:none;\">\n",
              "        \n",
              "  <svg xmlns=\"http://www.w3.org/2000/svg\" height=\"24px\"viewBox=\"0 0 24 24\"\n",
              "       width=\"24px\">\n",
              "    <path d=\"M0 0h24v24H0V0z\" fill=\"none\"/>\n",
              "    <path d=\"M18.56 5.44l.94 2.06.94-2.06 2.06-.94-2.06-.94-.94-2.06-.94 2.06-2.06.94zm-11 1L8.5 8.5l.94-2.06 2.06-.94-2.06-.94L8.5 2.5l-.94 2.06-2.06.94zm10 10l.94 2.06.94-2.06 2.06-.94-2.06-.94-.94-2.06-.94 2.06-2.06.94z\"/><path d=\"M17.41 7.96l-1.37-1.37c-.4-.4-.92-.59-1.43-.59-.52 0-1.04.2-1.43.59L10.3 9.45l-7.72 7.72c-.78.78-.78 2.05 0 2.83L4 21.41c.39.39.9.59 1.41.59.51 0 1.02-.2 1.41-.59l7.78-7.78 2.81-2.81c.8-.78.8-2.07 0-2.86zM5.41 20L4 18.59l7.72-7.72 1.47 1.35L5.41 20z\"/>\n",
              "  </svg>\n",
              "      </button>\n",
              "      \n",
              "  <style>\n",
              "    .colab-df-container {\n",
              "      display:flex;\n",
              "      flex-wrap:wrap;\n",
              "      gap: 12px;\n",
              "    }\n",
              "\n",
              "    .colab-df-convert {\n",
              "      background-color: #E8F0FE;\n",
              "      border: none;\n",
              "      border-radius: 50%;\n",
              "      cursor: pointer;\n",
              "      display: none;\n",
              "      fill: #1967D2;\n",
              "      height: 32px;\n",
              "      padding: 0 0 0 0;\n",
              "      width: 32px;\n",
              "    }\n",
              "\n",
              "    .colab-df-convert:hover {\n",
              "      background-color: #E2EBFA;\n",
              "      box-shadow: 0px 1px 2px rgba(60, 64, 67, 0.3), 0px 1px 3px 1px rgba(60, 64, 67, 0.15);\n",
              "      fill: #174EA6;\n",
              "    }\n",
              "\n",
              "    [theme=dark] .colab-df-convert {\n",
              "      background-color: #3B4455;\n",
              "      fill: #D2E3FC;\n",
              "    }\n",
              "\n",
              "    [theme=dark] .colab-df-convert:hover {\n",
              "      background-color: #434B5C;\n",
              "      box-shadow: 0px 1px 3px 1px rgba(0, 0, 0, 0.15);\n",
              "      filter: drop-shadow(0px 1px 2px rgba(0, 0, 0, 0.3));\n",
              "      fill: #FFFFFF;\n",
              "    }\n",
              "  </style>\n",
              "\n",
              "      <script>\n",
              "        const buttonEl =\n",
              "          document.querySelector('#df-b4c80849-4e00-4925-af04-efe1bba91c99 button.colab-df-convert');\n",
              "        buttonEl.style.display =\n",
              "          google.colab.kernel.accessAllowed ? 'block' : 'none';\n",
              "\n",
              "        async function convertToInteractive(key) {\n",
              "          const element = document.querySelector('#df-b4c80849-4e00-4925-af04-efe1bba91c99');\n",
              "          const dataTable =\n",
              "            await google.colab.kernel.invokeFunction('convertToInteractive',\n",
              "                                                     [key], {});\n",
              "          if (!dataTable) return;\n",
              "\n",
              "          const docLinkHtml = 'Like what you see? Visit the ' +\n",
              "            '<a target=\"_blank\" href=https://colab.research.google.com/notebooks/data_table.ipynb>data table notebook</a>'\n",
              "            + ' to learn more about interactive tables.';\n",
              "          element.innerHTML = '';\n",
              "          dataTable['output_type'] = 'display_data';\n",
              "          await google.colab.output.renderOutput(dataTable, element);\n",
              "          const docLink = document.createElement('div');\n",
              "          docLink.innerHTML = docLinkHtml;\n",
              "          element.appendChild(docLink);\n",
              "        }\n",
              "      </script>\n",
              "    </div>\n",
              "  </div>\n",
              "  "
            ]
          },
          "metadata": {},
          "execution_count": 33
        }
      ]
    },
    {
      "cell_type": "markdown",
      "source": [
        "## Although the root mean square error has gone down, this is not as significant, so we still have a high mean square error, which shows us that the predictions are a bit off from what we wanted"
      ],
      "metadata": {
        "id": "GpBQLEndfzPg"
      }
    },
    {
      "cell_type": "markdown",
      "source": [
        "## Part 2\n",
        "\n",
        "The team that has shared the information with you has provided you with a new file, which you can download from this *link*: https://drive.google.com/file/d/1qZsrAcB-02Z-8RA6wHzG2ZpJvYOFrTwp/view?usp=sharing\n",
        "\n",
        "This is exactly the same file as in **part 1**, although it now includes a new column, called `Contratado`, which has a `1` if the applicant was hired and a `0` if not.\n",
        "\n",
        "In this part you will have to make a classification model that can predict if an applicant will be contracted or not, according to the variables that have been shared with you.\n",
        "\n",
        "### To do:\n",
        "- Model the logistic regression correctly:\n",
        "   - make _dummies_ to categorical values,\n",
        "   - \"split\" _dataframe_,\n",
        "   - standardize sets,\n",
        "   - apply model,\n",
        "   - train with training set,\n",
        "   - predict with set of tests.\n",
        "\n",
        "- Apply confusion table and measure precision.\n",
        "- Graph a heat map of the confusion box.\n",
        "- Apply a different classification model (whatever you want) and indicate its precision\n",
        "- Plot a heat map of the confusion box of the new model.\n",
        "- Indicate the F1 *score* for the classification models you have made and explain them.\n"
      ],
      "metadata": {
        "id": "4EU38Rc-2zR7"
      }
    },
    {
      "cell_type": "code",
      "source": [
        "df2 = pd.read_csv(\"/content/drive/MyDrive/1. DataScienci/proyectoModulo_3/rrhh_2.csv\")"
      ],
      "metadata": {
        "id": "sjw2J8ksinLN"
      },
      "execution_count": null,
      "outputs": []
    },
    {
      "cell_type": "code",
      "source": [
        "df2.head()"
      ],
      "metadata": {
        "colab": {
          "base_uri": "https://localhost:8080/",
          "height": 206
        },
        "id": "Fthcj-v5izMz",
        "outputId": "3e906082-4aff-4f86-a659-5e4c2012689f"
      },
      "execution_count": null,
      "outputs": [
        {
          "output_type": "execute_result",
          "data": {
            "text/plain": [
              "   Experiencia     Posicion  Hijos  Casado     Educacion  Salario  Contratado\n",
              "0          0.5     Analista      4       1  Bachillerato    13540           1\n",
              "1          5.6     Analista      2       0  Licenciatura    31240           0\n",
              "2         11.7     Analista      1       0  Licenciatura    63880           0\n",
              "3          5.2     Analista      2       1  Licenciatura    29960           1\n",
              "4          7.2  Coordinador      2       1  Licenciatura    34710           1"
            ],
            "text/html": [
              "\n",
              "  <div id=\"df-7cd84d7f-7d6c-4496-a995-da2c763ff09c\">\n",
              "    <div class=\"colab-df-container\">\n",
              "      <div>\n",
              "<style scoped>\n",
              "    .dataframe tbody tr th:only-of-type {\n",
              "        vertical-align: middle;\n",
              "    }\n",
              "\n",
              "    .dataframe tbody tr th {\n",
              "        vertical-align: top;\n",
              "    }\n",
              "\n",
              "    .dataframe thead th {\n",
              "        text-align: right;\n",
              "    }\n",
              "</style>\n",
              "<table border=\"1\" class=\"dataframe\">\n",
              "  <thead>\n",
              "    <tr style=\"text-align: right;\">\n",
              "      <th></th>\n",
              "      <th>Experiencia</th>\n",
              "      <th>Posicion</th>\n",
              "      <th>Hijos</th>\n",
              "      <th>Casado</th>\n",
              "      <th>Educacion</th>\n",
              "      <th>Salario</th>\n",
              "      <th>Contratado</th>\n",
              "    </tr>\n",
              "  </thead>\n",
              "  <tbody>\n",
              "    <tr>\n",
              "      <th>0</th>\n",
              "      <td>0.5</td>\n",
              "      <td>Analista</td>\n",
              "      <td>4</td>\n",
              "      <td>1</td>\n",
              "      <td>Bachillerato</td>\n",
              "      <td>13540</td>\n",
              "      <td>1</td>\n",
              "    </tr>\n",
              "    <tr>\n",
              "      <th>1</th>\n",
              "      <td>5.6</td>\n",
              "      <td>Analista</td>\n",
              "      <td>2</td>\n",
              "      <td>0</td>\n",
              "      <td>Licenciatura</td>\n",
              "      <td>31240</td>\n",
              "      <td>0</td>\n",
              "    </tr>\n",
              "    <tr>\n",
              "      <th>2</th>\n",
              "      <td>11.7</td>\n",
              "      <td>Analista</td>\n",
              "      <td>1</td>\n",
              "      <td>0</td>\n",
              "      <td>Licenciatura</td>\n",
              "      <td>63880</td>\n",
              "      <td>0</td>\n",
              "    </tr>\n",
              "    <tr>\n",
              "      <th>3</th>\n",
              "      <td>5.2</td>\n",
              "      <td>Analista</td>\n",
              "      <td>2</td>\n",
              "      <td>1</td>\n",
              "      <td>Licenciatura</td>\n",
              "      <td>29960</td>\n",
              "      <td>1</td>\n",
              "    </tr>\n",
              "    <tr>\n",
              "      <th>4</th>\n",
              "      <td>7.2</td>\n",
              "      <td>Coordinador</td>\n",
              "      <td>2</td>\n",
              "      <td>1</td>\n",
              "      <td>Licenciatura</td>\n",
              "      <td>34710</td>\n",
              "      <td>1</td>\n",
              "    </tr>\n",
              "  </tbody>\n",
              "</table>\n",
              "</div>\n",
              "      <button class=\"colab-df-convert\" onclick=\"convertToInteractive('df-7cd84d7f-7d6c-4496-a995-da2c763ff09c')\"\n",
              "              title=\"Convert this dataframe to an interactive table.\"\n",
              "              style=\"display:none;\">\n",
              "        \n",
              "  <svg xmlns=\"http://www.w3.org/2000/svg\" height=\"24px\"viewBox=\"0 0 24 24\"\n",
              "       width=\"24px\">\n",
              "    <path d=\"M0 0h24v24H0V0z\" fill=\"none\"/>\n",
              "    <path d=\"M18.56 5.44l.94 2.06.94-2.06 2.06-.94-2.06-.94-.94-2.06-.94 2.06-2.06.94zm-11 1L8.5 8.5l.94-2.06 2.06-.94-2.06-.94L8.5 2.5l-.94 2.06-2.06.94zm10 10l.94 2.06.94-2.06 2.06-.94-2.06-.94-.94-2.06-.94 2.06-2.06.94z\"/><path d=\"M17.41 7.96l-1.37-1.37c-.4-.4-.92-.59-1.43-.59-.52 0-1.04.2-1.43.59L10.3 9.45l-7.72 7.72c-.78.78-.78 2.05 0 2.83L4 21.41c.39.39.9.59 1.41.59.51 0 1.02-.2 1.41-.59l7.78-7.78 2.81-2.81c.8-.78.8-2.07 0-2.86zM5.41 20L4 18.59l7.72-7.72 1.47 1.35L5.41 20z\"/>\n",
              "  </svg>\n",
              "      </button>\n",
              "      \n",
              "  <style>\n",
              "    .colab-df-container {\n",
              "      display:flex;\n",
              "      flex-wrap:wrap;\n",
              "      gap: 12px;\n",
              "    }\n",
              "\n",
              "    .colab-df-convert {\n",
              "      background-color: #E8F0FE;\n",
              "      border: none;\n",
              "      border-radius: 50%;\n",
              "      cursor: pointer;\n",
              "      display: none;\n",
              "      fill: #1967D2;\n",
              "      height: 32px;\n",
              "      padding: 0 0 0 0;\n",
              "      width: 32px;\n",
              "    }\n",
              "\n",
              "    .colab-df-convert:hover {\n",
              "      background-color: #E2EBFA;\n",
              "      box-shadow: 0px 1px 2px rgba(60, 64, 67, 0.3), 0px 1px 3px 1px rgba(60, 64, 67, 0.15);\n",
              "      fill: #174EA6;\n",
              "    }\n",
              "\n",
              "    [theme=dark] .colab-df-convert {\n",
              "      background-color: #3B4455;\n",
              "      fill: #D2E3FC;\n",
              "    }\n",
              "\n",
              "    [theme=dark] .colab-df-convert:hover {\n",
              "      background-color: #434B5C;\n",
              "      box-shadow: 0px 1px 3px 1px rgba(0, 0, 0, 0.15);\n",
              "      filter: drop-shadow(0px 1px 2px rgba(0, 0, 0, 0.3));\n",
              "      fill: #FFFFFF;\n",
              "    }\n",
              "  </style>\n",
              "\n",
              "      <script>\n",
              "        const buttonEl =\n",
              "          document.querySelector('#df-7cd84d7f-7d6c-4496-a995-da2c763ff09c button.colab-df-convert');\n",
              "        buttonEl.style.display =\n",
              "          google.colab.kernel.accessAllowed ? 'block' : 'none';\n",
              "\n",
              "        async function convertToInteractive(key) {\n",
              "          const element = document.querySelector('#df-7cd84d7f-7d6c-4496-a995-da2c763ff09c');\n",
              "          const dataTable =\n",
              "            await google.colab.kernel.invokeFunction('convertToInteractive',\n",
              "                                                     [key], {});\n",
              "          if (!dataTable) return;\n",
              "\n",
              "          const docLinkHtml = 'Like what you see? Visit the ' +\n",
              "            '<a target=\"_blank\" href=https://colab.research.google.com/notebooks/data_table.ipynb>data table notebook</a>'\n",
              "            + ' to learn more about interactive tables.';\n",
              "          element.innerHTML = '';\n",
              "          dataTable['output_type'] = 'display_data';\n",
              "          await google.colab.output.renderOutput(dataTable, element);\n",
              "          const docLink = document.createElement('div');\n",
              "          docLink.innerHTML = docLinkHtml;\n",
              "          element.appendChild(docLink);\n",
              "        }\n",
              "      </script>\n",
              "    </div>\n",
              "  </div>\n",
              "  "
            ]
          },
          "metadata": {},
          "execution_count": 35
        }
      ]
    },
    {
      "cell_type": "code",
      "source": [
        "df2.info()"
      ],
      "metadata": {
        "colab": {
          "base_uri": "https://localhost:8080/"
        },
        "id": "K6gfARJmTqba",
        "outputId": "63c66416-8275-48f3-a503-f7928e356344"
      },
      "execution_count": null,
      "outputs": [
        {
          "output_type": "stream",
          "name": "stdout",
          "text": [
            "<class 'pandas.core.frame.DataFrame'>\n",
            "RangeIndex: 1000 entries, 0 to 999\n",
            "Data columns (total 7 columns):\n",
            " #   Column       Non-Null Count  Dtype  \n",
            "---  ------       --------------  -----  \n",
            " 0   Experiencia  1000 non-null   float64\n",
            " 1   Posicion     1000 non-null   object \n",
            " 2   Hijos        1000 non-null   int64  \n",
            " 3   Casado       1000 non-null   int64  \n",
            " 4   Educacion    1000 non-null   object \n",
            " 5   Salario      1000 non-null   int64  \n",
            " 6   Contratado   1000 non-null   int64  \n",
            "dtypes: float64(1), int64(4), object(2)\n",
            "memory usage: 54.8+ KB\n"
          ]
        }
      ]
    },
    {
      "cell_type": "code",
      "source": [
        "df2.describe()"
      ],
      "metadata": {
        "colab": {
          "base_uri": "https://localhost:8080/",
          "height": 301
        },
        "id": "A-gA06QAmAQo",
        "outputId": "3bf025c6-a066-436c-ae19-4e5d236dcc17"
      },
      "execution_count": null,
      "outputs": [
        {
          "output_type": "execute_result",
          "data": {
            "text/plain": [
              "       Experiencia        Hijos       Casado       Salario   Contratado\n",
              "count  1000.000000  1000.000000  1000.000000   1000.000000  1000.000000\n",
              "mean      6.416200     1.453000     0.595000  30787.060000     0.518000\n",
              "std       2.577612     1.208823     0.491138  11520.200049     0.499926\n",
              "min       0.100000     0.000000     0.000000   5630.000000     0.000000\n",
              "25%       4.600000     0.000000     0.000000  22557.500000     0.000000\n",
              "50%       6.400000     1.000000     1.000000  29470.000000     1.000000\n",
              "75%       8.100000     2.000000     1.000000  37922.500000     1.000000\n",
              "max      15.200000     4.000000     1.000000  83470.000000     1.000000"
            ],
            "text/html": [
              "\n",
              "  <div id=\"df-4089f87d-ef7a-4cab-99ed-f847bc95312a\">\n",
              "    <div class=\"colab-df-container\">\n",
              "      <div>\n",
              "<style scoped>\n",
              "    .dataframe tbody tr th:only-of-type {\n",
              "        vertical-align: middle;\n",
              "    }\n",
              "\n",
              "    .dataframe tbody tr th {\n",
              "        vertical-align: top;\n",
              "    }\n",
              "\n",
              "    .dataframe thead th {\n",
              "        text-align: right;\n",
              "    }\n",
              "</style>\n",
              "<table border=\"1\" class=\"dataframe\">\n",
              "  <thead>\n",
              "    <tr style=\"text-align: right;\">\n",
              "      <th></th>\n",
              "      <th>Experiencia</th>\n",
              "      <th>Hijos</th>\n",
              "      <th>Casado</th>\n",
              "      <th>Salario</th>\n",
              "      <th>Contratado</th>\n",
              "    </tr>\n",
              "  </thead>\n",
              "  <tbody>\n",
              "    <tr>\n",
              "      <th>count</th>\n",
              "      <td>1000.000000</td>\n",
              "      <td>1000.000000</td>\n",
              "      <td>1000.000000</td>\n",
              "      <td>1000.000000</td>\n",
              "      <td>1000.000000</td>\n",
              "    </tr>\n",
              "    <tr>\n",
              "      <th>mean</th>\n",
              "      <td>6.416200</td>\n",
              "      <td>1.453000</td>\n",
              "      <td>0.595000</td>\n",
              "      <td>30787.060000</td>\n",
              "      <td>0.518000</td>\n",
              "    </tr>\n",
              "    <tr>\n",
              "      <th>std</th>\n",
              "      <td>2.577612</td>\n",
              "      <td>1.208823</td>\n",
              "      <td>0.491138</td>\n",
              "      <td>11520.200049</td>\n",
              "      <td>0.499926</td>\n",
              "    </tr>\n",
              "    <tr>\n",
              "      <th>min</th>\n",
              "      <td>0.100000</td>\n",
              "      <td>0.000000</td>\n",
              "      <td>0.000000</td>\n",
              "      <td>5630.000000</td>\n",
              "      <td>0.000000</td>\n",
              "    </tr>\n",
              "    <tr>\n",
              "      <th>25%</th>\n",
              "      <td>4.600000</td>\n",
              "      <td>0.000000</td>\n",
              "      <td>0.000000</td>\n",
              "      <td>22557.500000</td>\n",
              "      <td>0.000000</td>\n",
              "    </tr>\n",
              "    <tr>\n",
              "      <th>50%</th>\n",
              "      <td>6.400000</td>\n",
              "      <td>1.000000</td>\n",
              "      <td>1.000000</td>\n",
              "      <td>29470.000000</td>\n",
              "      <td>1.000000</td>\n",
              "    </tr>\n",
              "    <tr>\n",
              "      <th>75%</th>\n",
              "      <td>8.100000</td>\n",
              "      <td>2.000000</td>\n",
              "      <td>1.000000</td>\n",
              "      <td>37922.500000</td>\n",
              "      <td>1.000000</td>\n",
              "    </tr>\n",
              "    <tr>\n",
              "      <th>max</th>\n",
              "      <td>15.200000</td>\n",
              "      <td>4.000000</td>\n",
              "      <td>1.000000</td>\n",
              "      <td>83470.000000</td>\n",
              "      <td>1.000000</td>\n",
              "    </tr>\n",
              "  </tbody>\n",
              "</table>\n",
              "</div>\n",
              "      <button class=\"colab-df-convert\" onclick=\"convertToInteractive('df-4089f87d-ef7a-4cab-99ed-f847bc95312a')\"\n",
              "              title=\"Convert this dataframe to an interactive table.\"\n",
              "              style=\"display:none;\">\n",
              "        \n",
              "  <svg xmlns=\"http://www.w3.org/2000/svg\" height=\"24px\"viewBox=\"0 0 24 24\"\n",
              "       width=\"24px\">\n",
              "    <path d=\"M0 0h24v24H0V0z\" fill=\"none\"/>\n",
              "    <path d=\"M18.56 5.44l.94 2.06.94-2.06 2.06-.94-2.06-.94-.94-2.06-.94 2.06-2.06.94zm-11 1L8.5 8.5l.94-2.06 2.06-.94-2.06-.94L8.5 2.5l-.94 2.06-2.06.94zm10 10l.94 2.06.94-2.06 2.06-.94-2.06-.94-.94-2.06-.94 2.06-2.06.94z\"/><path d=\"M17.41 7.96l-1.37-1.37c-.4-.4-.92-.59-1.43-.59-.52 0-1.04.2-1.43.59L10.3 9.45l-7.72 7.72c-.78.78-.78 2.05 0 2.83L4 21.41c.39.39.9.59 1.41.59.51 0 1.02-.2 1.41-.59l7.78-7.78 2.81-2.81c.8-.78.8-2.07 0-2.86zM5.41 20L4 18.59l7.72-7.72 1.47 1.35L5.41 20z\"/>\n",
              "  </svg>\n",
              "      </button>\n",
              "      \n",
              "  <style>\n",
              "    .colab-df-container {\n",
              "      display:flex;\n",
              "      flex-wrap:wrap;\n",
              "      gap: 12px;\n",
              "    }\n",
              "\n",
              "    .colab-df-convert {\n",
              "      background-color: #E8F0FE;\n",
              "      border: none;\n",
              "      border-radius: 50%;\n",
              "      cursor: pointer;\n",
              "      display: none;\n",
              "      fill: #1967D2;\n",
              "      height: 32px;\n",
              "      padding: 0 0 0 0;\n",
              "      width: 32px;\n",
              "    }\n",
              "\n",
              "    .colab-df-convert:hover {\n",
              "      background-color: #E2EBFA;\n",
              "      box-shadow: 0px 1px 2px rgba(60, 64, 67, 0.3), 0px 1px 3px 1px rgba(60, 64, 67, 0.15);\n",
              "      fill: #174EA6;\n",
              "    }\n",
              "\n",
              "    [theme=dark] .colab-df-convert {\n",
              "      background-color: #3B4455;\n",
              "      fill: #D2E3FC;\n",
              "    }\n",
              "\n",
              "    [theme=dark] .colab-df-convert:hover {\n",
              "      background-color: #434B5C;\n",
              "      box-shadow: 0px 1px 3px 1px rgba(0, 0, 0, 0.15);\n",
              "      filter: drop-shadow(0px 1px 2px rgba(0, 0, 0, 0.3));\n",
              "      fill: #FFFFFF;\n",
              "    }\n",
              "  </style>\n",
              "\n",
              "      <script>\n",
              "        const buttonEl =\n",
              "          document.querySelector('#df-4089f87d-ef7a-4cab-99ed-f847bc95312a button.colab-df-convert');\n",
              "        buttonEl.style.display =\n",
              "          google.colab.kernel.accessAllowed ? 'block' : 'none';\n",
              "\n",
              "        async function convertToInteractive(key) {\n",
              "          const element = document.querySelector('#df-4089f87d-ef7a-4cab-99ed-f847bc95312a');\n",
              "          const dataTable =\n",
              "            await google.colab.kernel.invokeFunction('convertToInteractive',\n",
              "                                                     [key], {});\n",
              "          if (!dataTable) return;\n",
              "\n",
              "          const docLinkHtml = 'Like what you see? Visit the ' +\n",
              "            '<a target=\"_blank\" href=https://colab.research.google.com/notebooks/data_table.ipynb>data table notebook</a>'\n",
              "            + ' to learn more about interactive tables.';\n",
              "          element.innerHTML = '';\n",
              "          dataTable['output_type'] = 'display_data';\n",
              "          await google.colab.output.renderOutput(dataTable, element);\n",
              "          const docLink = document.createElement('div');\n",
              "          docLink.innerHTML = docLinkHtml;\n",
              "          element.appendChild(docLink);\n",
              "        }\n",
              "      </script>\n",
              "    </div>\n",
              "  </div>\n",
              "  "
            ]
          },
          "metadata": {},
          "execution_count": 36
        }
      ]
    },
    {
      "cell_type": "code",
      "source": [
        "#Create dummy variables for categorical values\n",
        "df2 = pd.get_dummies(data=df2, columns=['Posicion', 'Hijos', 'Educacion'])\n",
        "df2.head()"
      ],
      "metadata": {
        "colab": {
          "base_uri": "https://localhost:8080/",
          "height": 270
        },
        "id": "brE5Vi7ZjRPo",
        "outputId": "db1c5982-8737-48be-febf-7155ff2fe990"
      },
      "execution_count": null,
      "outputs": [
        {
          "output_type": "execute_result",
          "data": {
            "text/plain": [
              "   Experiencia  Casado  Salario  Contratado  Posicion_Analista  \\\n",
              "0          0.5       1    13540           1                  1   \n",
              "1          5.6       0    31240           0                  1   \n",
              "2         11.7       0    63880           0                  1   \n",
              "3          5.2       1    29960           1                  1   \n",
              "4          7.2       1    34710           1                  0   \n",
              "\n",
              "   Posicion_Coordinador  Posicion_Gerente  Hijos_0  Hijos_1  Hijos_2  Hijos_3  \\\n",
              "0                     0                 0        0        0        0        0   \n",
              "1                     0                 0        0        0        1        0   \n",
              "2                     0                 0        0        1        0        0   \n",
              "3                     0                 0        0        0        1        0   \n",
              "4                     1                 0        0        0        1        0   \n",
              "\n",
              "   Hijos_4  Educacion_Bachillerato  Educacion_Licenciatura  Educacion_Posgrado  \n",
              "0        1                       1                       0                   0  \n",
              "1        0                       0                       1                   0  \n",
              "2        0                       0                       1                   0  \n",
              "3        0                       0                       1                   0  \n",
              "4        0                       0                       1                   0  "
            ],
            "text/html": [
              "\n",
              "  <div id=\"df-f9cedf9d-9738-4156-add1-d93dca5080c4\">\n",
              "    <div class=\"colab-df-container\">\n",
              "      <div>\n",
              "<style scoped>\n",
              "    .dataframe tbody tr th:only-of-type {\n",
              "        vertical-align: middle;\n",
              "    }\n",
              "\n",
              "    .dataframe tbody tr th {\n",
              "        vertical-align: top;\n",
              "    }\n",
              "\n",
              "    .dataframe thead th {\n",
              "        text-align: right;\n",
              "    }\n",
              "</style>\n",
              "<table border=\"1\" class=\"dataframe\">\n",
              "  <thead>\n",
              "    <tr style=\"text-align: right;\">\n",
              "      <th></th>\n",
              "      <th>Experiencia</th>\n",
              "      <th>Casado</th>\n",
              "      <th>Salario</th>\n",
              "      <th>Contratado</th>\n",
              "      <th>Posicion_Analista</th>\n",
              "      <th>Posicion_Coordinador</th>\n",
              "      <th>Posicion_Gerente</th>\n",
              "      <th>Hijos_0</th>\n",
              "      <th>Hijos_1</th>\n",
              "      <th>Hijos_2</th>\n",
              "      <th>Hijos_3</th>\n",
              "      <th>Hijos_4</th>\n",
              "      <th>Educacion_Bachillerato</th>\n",
              "      <th>Educacion_Licenciatura</th>\n",
              "      <th>Educacion_Posgrado</th>\n",
              "    </tr>\n",
              "  </thead>\n",
              "  <tbody>\n",
              "    <tr>\n",
              "      <th>0</th>\n",
              "      <td>0.5</td>\n",
              "      <td>1</td>\n",
              "      <td>13540</td>\n",
              "      <td>1</td>\n",
              "      <td>1</td>\n",
              "      <td>0</td>\n",
              "      <td>0</td>\n",
              "      <td>0</td>\n",
              "      <td>0</td>\n",
              "      <td>0</td>\n",
              "      <td>0</td>\n",
              "      <td>1</td>\n",
              "      <td>1</td>\n",
              "      <td>0</td>\n",
              "      <td>0</td>\n",
              "    </tr>\n",
              "    <tr>\n",
              "      <th>1</th>\n",
              "      <td>5.6</td>\n",
              "      <td>0</td>\n",
              "      <td>31240</td>\n",
              "      <td>0</td>\n",
              "      <td>1</td>\n",
              "      <td>0</td>\n",
              "      <td>0</td>\n",
              "      <td>0</td>\n",
              "      <td>0</td>\n",
              "      <td>1</td>\n",
              "      <td>0</td>\n",
              "      <td>0</td>\n",
              "      <td>0</td>\n",
              "      <td>1</td>\n",
              "      <td>0</td>\n",
              "    </tr>\n",
              "    <tr>\n",
              "      <th>2</th>\n",
              "      <td>11.7</td>\n",
              "      <td>0</td>\n",
              "      <td>63880</td>\n",
              "      <td>0</td>\n",
              "      <td>1</td>\n",
              "      <td>0</td>\n",
              "      <td>0</td>\n",
              "      <td>0</td>\n",
              "      <td>1</td>\n",
              "      <td>0</td>\n",
              "      <td>0</td>\n",
              "      <td>0</td>\n",
              "      <td>0</td>\n",
              "      <td>1</td>\n",
              "      <td>0</td>\n",
              "    </tr>\n",
              "    <tr>\n",
              "      <th>3</th>\n",
              "      <td>5.2</td>\n",
              "      <td>1</td>\n",
              "      <td>29960</td>\n",
              "      <td>1</td>\n",
              "      <td>1</td>\n",
              "      <td>0</td>\n",
              "      <td>0</td>\n",
              "      <td>0</td>\n",
              "      <td>0</td>\n",
              "      <td>1</td>\n",
              "      <td>0</td>\n",
              "      <td>0</td>\n",
              "      <td>0</td>\n",
              "      <td>1</td>\n",
              "      <td>0</td>\n",
              "    </tr>\n",
              "    <tr>\n",
              "      <th>4</th>\n",
              "      <td>7.2</td>\n",
              "      <td>1</td>\n",
              "      <td>34710</td>\n",
              "      <td>1</td>\n",
              "      <td>0</td>\n",
              "      <td>1</td>\n",
              "      <td>0</td>\n",
              "      <td>0</td>\n",
              "      <td>0</td>\n",
              "      <td>1</td>\n",
              "      <td>0</td>\n",
              "      <td>0</td>\n",
              "      <td>0</td>\n",
              "      <td>1</td>\n",
              "      <td>0</td>\n",
              "    </tr>\n",
              "  </tbody>\n",
              "</table>\n",
              "</div>\n",
              "      <button class=\"colab-df-convert\" onclick=\"convertToInteractive('df-f9cedf9d-9738-4156-add1-d93dca5080c4')\"\n",
              "              title=\"Convert this dataframe to an interactive table.\"\n",
              "              style=\"display:none;\">\n",
              "        \n",
              "  <svg xmlns=\"http://www.w3.org/2000/svg\" height=\"24px\"viewBox=\"0 0 24 24\"\n",
              "       width=\"24px\">\n",
              "    <path d=\"M0 0h24v24H0V0z\" fill=\"none\"/>\n",
              "    <path d=\"M18.56 5.44l.94 2.06.94-2.06 2.06-.94-2.06-.94-.94-2.06-.94 2.06-2.06.94zm-11 1L8.5 8.5l.94-2.06 2.06-.94-2.06-.94L8.5 2.5l-.94 2.06-2.06.94zm10 10l.94 2.06.94-2.06 2.06-.94-2.06-.94-.94-2.06-.94 2.06-2.06.94z\"/><path d=\"M17.41 7.96l-1.37-1.37c-.4-.4-.92-.59-1.43-.59-.52 0-1.04.2-1.43.59L10.3 9.45l-7.72 7.72c-.78.78-.78 2.05 0 2.83L4 21.41c.39.39.9.59 1.41.59.51 0 1.02-.2 1.41-.59l7.78-7.78 2.81-2.81c.8-.78.8-2.07 0-2.86zM5.41 20L4 18.59l7.72-7.72 1.47 1.35L5.41 20z\"/>\n",
              "  </svg>\n",
              "      </button>\n",
              "      \n",
              "  <style>\n",
              "    .colab-df-container {\n",
              "      display:flex;\n",
              "      flex-wrap:wrap;\n",
              "      gap: 12px;\n",
              "    }\n",
              "\n",
              "    .colab-df-convert {\n",
              "      background-color: #E8F0FE;\n",
              "      border: none;\n",
              "      border-radius: 50%;\n",
              "      cursor: pointer;\n",
              "      display: none;\n",
              "      fill: #1967D2;\n",
              "      height: 32px;\n",
              "      padding: 0 0 0 0;\n",
              "      width: 32px;\n",
              "    }\n",
              "\n",
              "    .colab-df-convert:hover {\n",
              "      background-color: #E2EBFA;\n",
              "      box-shadow: 0px 1px 2px rgba(60, 64, 67, 0.3), 0px 1px 3px 1px rgba(60, 64, 67, 0.15);\n",
              "      fill: #174EA6;\n",
              "    }\n",
              "\n",
              "    [theme=dark] .colab-df-convert {\n",
              "      background-color: #3B4455;\n",
              "      fill: #D2E3FC;\n",
              "    }\n",
              "\n",
              "    [theme=dark] .colab-df-convert:hover {\n",
              "      background-color: #434B5C;\n",
              "      box-shadow: 0px 1px 3px 1px rgba(0, 0, 0, 0.15);\n",
              "      filter: drop-shadow(0px 1px 2px rgba(0, 0, 0, 0.3));\n",
              "      fill: #FFFFFF;\n",
              "    }\n",
              "  </style>\n",
              "\n",
              "      <script>\n",
              "        const buttonEl =\n",
              "          document.querySelector('#df-f9cedf9d-9738-4156-add1-d93dca5080c4 button.colab-df-convert');\n",
              "        buttonEl.style.display =\n",
              "          google.colab.kernel.accessAllowed ? 'block' : 'none';\n",
              "\n",
              "        async function convertToInteractive(key) {\n",
              "          const element = document.querySelector('#df-f9cedf9d-9738-4156-add1-d93dca5080c4');\n",
              "          const dataTable =\n",
              "            await google.colab.kernel.invokeFunction('convertToInteractive',\n",
              "                                                     [key], {});\n",
              "          if (!dataTable) return;\n",
              "\n",
              "          const docLinkHtml = 'Like what you see? Visit the ' +\n",
              "            '<a target=\"_blank\" href=https://colab.research.google.com/notebooks/data_table.ipynb>data table notebook</a>'\n",
              "            + ' to learn more about interactive tables.';\n",
              "          element.innerHTML = '';\n",
              "          dataTable['output_type'] = 'display_data';\n",
              "          await google.colab.output.renderOutput(dataTable, element);\n",
              "          const docLink = document.createElement('div');\n",
              "          docLink.innerHTML = docLinkHtml;\n",
              "          element.appendChild(docLink);\n",
              "        }\n",
              "      </script>\n",
              "    </div>\n",
              "  </div>\n",
              "  "
            ]
          },
          "metadata": {},
          "execution_count": 41
        }
      ]
    },
    {
      "cell_type": "code",
      "source": [
        "# Divide the independent variables with the dependent\n",
        "X = df2.drop(columns = 'Contratado')\n",
        "y= df2.Contratado"
      ],
      "metadata": {
        "id": "G42P2mhoi1tZ"
      },
      "execution_count": null,
      "outputs": []
    },
    {
      "cell_type": "code",
      "source": [
        "# We divide the dataset into test data and training data\n",
        "X_train, X_test, y_train, y_test = train_test_split(X, y, test_size=0.25, random_state=16)"
      ],
      "metadata": {
        "id": "-JDE_FbVjN2a"
      },
      "execution_count": null,
      "outputs": []
    },
    {
      "cell_type": "markdown",
      "source": [
        "Regresion logistica"
      ],
      "metadata": {
        "id": "N2p_3eECoaD3"
      }
    },
    {
      "cell_type": "code",
      "source": [
        "# We initialize the model using default parameters\n",
        "logreg = LogisticRegression(random_state=16)\n",
        "\n",
        "# Train the model with the data\n",
        "logreg.fit(X_train, y_train)\n",
        "\n",
        "# test the model\n",
        "y_pred = logreg.predict(X_test)"
      ],
      "metadata": {
        "id": "GpafPkCikFfF"
      },
      "execution_count": null,
      "outputs": []
    },
    {
      "cell_type": "code",
      "source": [
        "# We generate the confusion matrix from the test data of Y and the prediction data of Y\n",
        "cnf_matrix = metrics.confusion_matrix(y_test, y_pred)\n",
        "cnf_matrix"
      ],
      "metadata": {
        "colab": {
          "base_uri": "https://localhost:8080/"
        },
        "id": "BhDxeE7PkeK5",
        "outputId": "4eff5f56-3cf1-4d8f-a173-75636321a343"
      },
      "execution_count": null,
      "outputs": [
        {
          "output_type": "execute_result",
          "data": {
            "text/plain": [
              "array([[91, 23],\n",
              "       [37, 99]])"
            ]
          },
          "metadata": {},
          "execution_count": 45
        }
      ]
    },
    {
      "cell_type": "code",
      "source": [
        "# The precision of the logistic regression model will be removed\n",
        "precision1 = (cnf_matrix[1,1])/((cnf_matrix[1,1]+cnf_matrix[0,1]))\n",
        "print(f'La presicion del modelo de regresion logistica es del {precision1}%')"
      ],
      "metadata": {
        "colab": {
          "base_uri": "https://localhost:8080/"
        },
        "id": "Qaqt8uQrkyvM",
        "outputId": "8abcd3c6-b4a1-4a29-9ac3-159922ecf932"
      },
      "execution_count": null,
      "outputs": [
        {
          "output_type": "stream",
          "name": "stdout",
          "text": [
            "La presicion del modelo de regresion logistica es del 0.8114754098360656%\n"
          ]
        }
      ]
    },
    {
      "cell_type": "code",
      "source": [
        "#Heat map confusion matrix Logistic regression\n",
        "nombres_clases=[0,1]\n",
        "fig, ax = plt.subplots()\n",
        "\n",
        "tick_marks = np.arange(len(nombres_clases))\n",
        "plt.xticks(tick_marks, nombres_clases)\n",
        "plt.yticks(tick_marks, nombres_clases)\n",
        "\n",
        "# Create the heat map\n",
        "sns.heatmap(pd.DataFrame(cnf_matrix), annot=True, cmap=\"YlGnBu\" ,fmt='g')\n",
        "ax.xaxis.set_label_position(\"top\")\n",
        "plt.tight_layout()\n",
        "\n",
        "plt.title('Matriz de Confusión Regresión logística', y=1.1)\n",
        "plt.ylabel('Valores reales')\n",
        "plt.xlabel('Valores predecidos')"
      ],
      "metadata": {
        "colab": {
          "base_uri": "https://localhost:8080/",
          "height": 342
        },
        "id": "o86TftUmkfws",
        "outputId": "d8156103-5b2e-45dc-c1d9-e427069fa628"
      },
      "execution_count": null,
      "outputs": [
        {
          "output_type": "execute_result",
          "data": {
            "text/plain": [
              "Text(0.5, 257.44, 'Valores predecidos')"
            ]
          },
          "metadata": {},
          "execution_count": 47
        },
        {
          "output_type": "display_data",
          "data": {
            "text/plain": [
              "<Figure size 432x288 with 2 Axes>"
            ],
            "image/png": "[encoded data removed]"
          },
          "metadata": {
            "needs_background": "light"
          }
        }
      ]
    },
    {
      "cell_type": "code",
      "source": [
        "#The f1 Score will be calculated\n",
        "#Recall\n",
        "Recall1 = cnf_matrix[1,1]/(cnf_matrix[1,1]+cnf_matrix[1,0])\n",
        "f1Score1 = 2 * ((Recall1 * precision1)/(Recall1 + precision1))\n",
        "f1Score1"
      ],
      "metadata": {
        "colab": {
          "base_uri": "https://localhost:8080/"
        },
        "id": "BQSXqwJ892uC",
        "outputId": "8e04c1b3-f19b-4ef6-cbd8-469f2c18ea6b"
      },
      "execution_count": null,
      "outputs": [
        {
          "output_type": "execute_result",
          "data": {
            "text/plain": [
              "0.7674418604651162"
            ]
          },
          "metadata": {},
          "execution_count": 48
        }
      ]
    },
    {
      "cell_type": "markdown",
      "source": [
        "Decision tree"
      ],
      "metadata": {
        "id": "3DzIV_Xpo9DP"
      }
    },
    {
      "cell_type": "code",
      "source": [
        "# We import the Decision Tree model for regression as follows and assign it to an object.\n",
        "modelo_tree = DecisionTreeClassifier()"
      ],
      "metadata": {
        "id": "v-9GzE-fl9pc"
      },
      "execution_count": null,
      "outputs": []
    },
    {
      "cell_type": "code",
      "source": [
        "#We train the model\n",
        "modelo_tree.fit(X_train, y_train)"
      ],
      "metadata": {
        "colab": {
          "base_uri": "https://localhost:8080/"
        },
        "id": "02FUQ-mBpIxa",
        "outputId": "af76ff8a-d068-4957-c61a-3fbcbd32cdda"
      },
      "execution_count": null,
      "outputs": [
        {
          "output_type": "execute_result",
          "data": {
            "text/plain": [
              "DecisionTreeClassifier()"
            ]
          },
          "metadata": {},
          "execution_count": 50
        }
      ]
    },
    {
      "cell_type": "code",
      "source": [
        "y_pred_tree = modelo_tree.predict(X_test)\n",
        "cm_tree = confusion_matrix(y_test, y_pred_tree)\n",
        "cm_tree"
      ],
      "metadata": {
        "colab": {
          "base_uri": "https://localhost:8080/"
        },
        "id": "6A3TEFolpKWb",
        "outputId": "6791f1e2-7020-45e4-8e6e-9e92a5964729"
      },
      "execution_count": null,
      "outputs": [
        {
          "output_type": "execute_result",
          "data": {
            "text/plain": [
              "array([[109,   5],\n",
              "       [ 21, 115]])"
            ]
          },
          "metadata": {},
          "execution_count": 51
        }
      ]
    },
    {
      "cell_type": "code",
      "source": [
        "#Calculate the precision of the decision tree model\n",
        "precision2 = (cm_tree[1,1])/((cm_tree[1,1]+cm_tree[0,1]))\n",
        "print(f'La presicion del modelo de arbol de decisiones es del {precision2}%')"
      ],
      "metadata": {
        "colab": {
          "base_uri": "https://localhost:8080/"
        },
        "id": "nRTaDLU_pMMy",
        "outputId": "6a04e4f6-095b-4791-8cce-f41ae21e40a7"
      },
      "execution_count": null,
      "outputs": [
        {
          "output_type": "stream",
          "name": "stdout",
          "text": [
            "La presicion del modelo de arbol de decisiones es del 0.9583333333333334%\n"
          ]
        }
      ]
    },
    {
      "cell_type": "code",
      "source": [
        "#Heat map confusion matrix decision tree\n",
        "sns.heatmap(cm_tree, annot= True, fmt= '.0f', cmap= 'winter')\n",
        "plt.title('Matriz de confusión Arbol de decisiones')\n",
        "plt.ylabel('Valores reales')\n",
        "plt.xlabel('Valores predecidos')\n",
        "plt.show()"
      ],
      "metadata": {
        "colab": {
          "base_uri": "https://localhost:8080/",
          "height": 295
        },
        "id": "tVh6ec-EpVct",
        "outputId": "b793ce91-a3f5-4d64-9815-87b49df8657a"
      },
      "execution_count": null,
      "outputs": [
        {
          "output_type": "display_data",
          "data": {
            "text/plain": [
              "<Figure size 432x288 with 2 Axes>"
            ],
            "image/png": "[encoded data removed]"
          },
          "metadata": {
            "needs_background": "light"
          }
        }
      ]
    },
    {
      "cell_type": "code",
      "source": [
        "#F1 Score\n",
        "Recall2 = cm_tree[1,1]/(cm_tree[1,1]+cm_tree[1,0])\n",
        "f1Score2 = 2 * ((Recall2 * precision2)/(Recall2 + precision2))\n",
        "f1Score2"
      ],
      "metadata": {
        "colab": {
          "base_uri": "https://localhost:8080/"
        },
        "id": "UcKCdTu7CD4U",
        "outputId": "0fd84a9a-e7b9-4adf-dd1f-56a941072818"
      },
      "execution_count": null,
      "outputs": [
        {
          "output_type": "execute_result",
          "data": {
            "text/plain": [
              "0.8984375"
            ]
          },
          "metadata": {},
          "execution_count": 54
        }
      ]
    },
    {
      "cell_type": "code",
      "source": [
        "# The precisions and the F1 Score of the two models executed are compared\n",
        "datos = pd.DataFrame()\n",
        "\n",
        "# create the columns\n",
        "datos['Regresion logistica'] = None\n",
        "datos['Arbol de decision'] = None\n",
        "\n",
        "# add rows by their row name\n",
        "datos.loc['Precision'] = [precision1, precision2]\n",
        "datos.loc['Recall'] = [Recall1, Recall2]\n",
        "datos.loc['F1 Score'] = [f1Score1, f1Score2]\n",
        "\n",
        "print(datos)"
      ],
      "metadata": {
        "colab": {
          "base_uri": "https://localhost:8080/"
        },
        "id": "8PfnsvhMMRFa",
        "outputId": "6918549b-15c8-4ccc-b5b7-0b02d02de58e"
      },
      "execution_count": null,
      "outputs": [
        {
          "output_type": "stream",
          "name": "stdout",
          "text": [
            "           Regresion logistica  Arbol de decision\n",
            "Precision             0.811475           0.958333\n",
            "Recall                0.727941           0.845588\n",
            "F1 Score              0.767442           0.898438\n"
          ]
        }
      ]
    },
    {
      "cell_type": "markdown",
      "source": [
        "# We can analyze that the F1 Score of each model can be considered good, since it shows us the confidence and harmony of the models, for having high F1 Scores.\n",
        "#The Decision Tree has an F1 Score of almost 0.9, this means that both its Precision and Recall are high, and show great confidence in the classification model used.\n"
      ],
      "metadata": {
        "id": "5ScNZdC-4quh"
      }
    }
  ]
}
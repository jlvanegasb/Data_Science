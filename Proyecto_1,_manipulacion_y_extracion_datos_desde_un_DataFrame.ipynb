{
  "nbformat": 4,
  "nbformat_minor": 0,
  "metadata": {
    "colab": {
      "provenance": [],
      "toc_visible": true
    },
    "kernelspec": {
      "name": "python3",
      "display_name": "Python 3"
    },
    "language_info": {
      "name": "python"
    }
  },
  "cells": [
    {
      "cell_type": "markdown",
      "source": [
        "# **Proyecto Módulo 1. Python para Ciencia de Datos**\n",
        "\n"
      ],
      "metadata": {
        "id": "fR3jvxoWv9WN"
      }
    },
    {
      "cell_type": "markdown",
      "source": [
        "Se tendrá un dos data sets que contienen información sobre unos telefonos celulares de diferentes marcas.\n",
        "\n",
        "Se necesita hacer lectura del data set y luego responder cada una de las preguntas hechas. "
      ],
      "metadata": {
        "id": "XgO7tgiiCjFv"
      }
    },
    {
      "cell_type": "code",
      "source": [
        "#Conectar google.colab con google drive\n",
        "from google.colab import drive\n",
        "drive.mount('/content/drive')"
      ],
      "metadata": {
        "colab": {
          "base_uri": "https://localhost:8080/"
        },
        "id": "Q7DD3TsR6l6I",
        "outputId": "c860788d-eb2c-404c-8210-34fc4b59d5a6"
      },
      "execution_count": null,
      "outputs": [
        {
          "output_type": "stream",
          "name": "stdout",
          "text": [
            "Mounted at /content/drive\n"
          ]
        }
      ]
    },
    {
      "cell_type": "code",
      "execution_count": null,
      "metadata": {
        "id": "LjNwIEwZN8nP"
      },
      "outputs": [],
      "source": [
        "#Importar las librerias necesarias para realizar el proyecto\n",
        "import pandas as pd\n",
        "import numpy as np\n",
        "import matplotlib.pyplot as plt "
      ]
    },
    {
      "cell_type": "markdown",
      "source": [
        "## Pregunta 1\n",
        "Descarga los siguientes archivos:\n",
        "- Este archivo de Excel enlista diferentes celulares y una serie de calificaciones de distintos usuarios: https://drive.google.com/file/d/1atasE-fuDyAt8Z7JGZQroKJwjNkbpyrn/view?usp=sharing \n",
        "- Este documento incluye un listado de las marcas de dichos teléfonos celulares: https://drive.google.com/file/d/1ICBvPkSVajVVMHyrMABYiwuwefv_3oPJ/view?usp=sharing\n",
        "\n",
        "Sube estos archivos en un **Google Drive** y con `pd.read_excel` nómbralos como `df_modelos` y `df_marcas`.\n",
        "\n",
        "Indica en un solo código el número de filas que tiene el archivo `df_modelos` que creaste.\n",
        "\n"
      ],
      "metadata": {
        "id": "IksPNalDSH7R"
      }
    },
    {
      "cell_type": "code",
      "source": [
        "df_modelos = pd.read_csv(\"/content/drive/MyDrive/1. DataScienci/proyectoModulo_1/Modelos.csv\", encoding='cp1252')\n",
        "df_marcas = pd.read_csv(\"/content/drive/MyDrive/1. DataScienci/proyectoModulo_1/Marcas.csv\")\n",
        "print(df_modelos)\n",
        "print(df_marcas)"
      ],
      "metadata": {
        "id": "I4iNlf32F1LE",
        "colab": {
          "base_uri": "https://localhost:8080/"
        },
        "outputId": "f58ff29c-e1d4-4e40-dc26-aa4027255aca"
      },
      "execution_count": null,
      "outputs": [
        {
          "output_type": "stream",
          "name": "stdout",
          "text": [
            "     ID Marca                                   Modelo  RAM_GB  ROM_GB  \\\n",
            "0          10              Redmi 8 (Onyx Black, 64 GB)       4      64   \n",
            "1           9          Realme 5i (Forest Green, 64 GB)       4      64   \n",
            "2           9             Realme 5i (Aqua Blue, 64 GB)       4      64   \n",
            "3          10           Redmi 8 (Sapphire Blue, 64 GB)       4      32   \n",
            "4           8          POCO X2 (Matrix Purple, 128 GB)       6      64   \n",
            "..        ...                                      ...     ...     ...   \n",
            "115         4                             Lava 34 Plus      32      32   \n",
            "116         9            Realme 6 (Comet Blue, 128 GB)       6     128   \n",
            "117         9  Realme 6 Pro (Lightning Orange, 128 GB)       8     128   \n",
            "118         2                           I Kall K14 New      32      64   \n",
            "119         1           Apple iPhone XR (White, 64 GB)       0      64   \n",
            "\n",
            "     Calificaciones  Rese–as  Estrellas  Precio de lista  Precio de venta  \n",
            "0            674638    50064        4.4            10999             9999  \n",
            "1            243106    16497        4.5            10999            10999  \n",
            "2            243106    16497        4.5            10999            10999  \n",
            "3            674638    50064        4.4            10999             9999  \n",
            "4            133486    14732        4.5            19999            18499  \n",
            "..              ...      ...        ...              ...              ...  \n",
            "115             361       34        4.1             1699             1699  \n",
            "116           30622     3002        4.4            16999            16999  \n",
            "117           14361     1671        4.4            19999            19999  \n",
            "118            7229      822        3.4              609              609  \n",
            "119           11572      975        4.6            52500            46999  \n",
            "\n",
            "[120 rows x 9 columns]\n",
            "    ID Marca Nombre Marca\n",
            "0          1        Apple\n",
            "1          2       I Kall\n",
            "2          3      Infinix\n",
            "3          4         Lava\n",
            "4          5     Motorola\n",
            "5          6        Nokia\n",
            "6          7         Oppo\n",
            "7          8         Poco\n",
            "8          9       Realme\n",
            "9         10        Redmi\n",
            "10        11        Tecno\n",
            "11        12         Vivo\n"
          ]
        }
      ]
    },
    {
      "cell_type": "markdown",
      "source": [
        "## Pregunta 2\n",
        "Haz un `merge` de ambos **data frames**, para generar un nuevo **data frame** que incluya los datos de `df_modelos` y `df_marcas`. Tu nuevo **data frame** recibirá el nombre de `df`.\n",
        "\n",
        "**Pista**: Ambos archivos tienen una columna que los relaciona, llamada `ID Marca`."
      ],
      "metadata": {
        "id": "cfoZq-nr2OkO"
      }
    },
    {
      "cell_type": "code",
      "source": [
        "df = df_modelos.merge(df_marcas, left_on='ID Marca', right_on='ID Marca')\n",
        "print(df)"
      ],
      "metadata": {
        "id": "S1L6Hn8VF2_v",
        "colab": {
          "base_uri": "https://localhost:8080/"
        },
        "outputId": "dae3474e-d6fc-4f9c-dcab-defcfa197b08"
      },
      "execution_count": null,
      "outputs": [
        {
          "output_type": "stream",
          "name": "stdout",
          "text": [
            "     ID Marca                                      Modelo  RAM_GB  ROM_GB  \\\n",
            "0          10                 Redmi 8 (Onyx Black, 64 GB)       4      64   \n",
            "1          10              Redmi 8 (Sapphire Blue, 64 GB)       4      32   \n",
            "2          10    Redmi Note 8 Pro (Electric Blue, 128 GB)       6      64   \n",
            "3          10             Redmi 8A Dual (Sea Blue, 64 GB)       3      64   \n",
            "4          10             Redmi 8A Dual (Sea Blue, 32 GB)       2      64   \n",
            "..        ...                                         ...     ...     ...   \n",
            "115         6                                Nokia 105 SS       4      64   \n",
            "116        11     Tecno Spark Power 2 (Misty Grey, 64 GB)       4       4   \n",
            "117        11  Tecno Camon 15 (Fascinating Purple, 64 GB)       4      32   \n",
            "118        11          Tecno Camon 15 (SHOAL GOLD, 64 GB)       4      32   \n",
            "119         4                                Lava 34 Plus      32      32   \n",
            "\n",
            "     Calificaciones  Rese–as  Estrellas  Precio de lista  Precio de venta  \\\n",
            "0            674638    50064        4.4            10999             9999   \n",
            "1            674638    50064        4.4            10999             9999   \n",
            "2             55815     4614        4.4            17999            16999   \n",
            "3               974       71        4.3             9750             9750   \n",
            "4              1246       81        4.2             8320             8320   \n",
            "..              ...      ...        ...              ...              ...   \n",
            "115           75730     7229        4.3             1299             1299   \n",
            "116            9603     1157        4.4            11999             9999   \n",
            "117            2219      238        4.2            12499            11499   \n",
            "118            2219      238        4.2            12499            11499   \n",
            "119             361       34        4.1             1699             1699   \n",
            "\n",
            "    Nombre Marca  \n",
            "0          Redmi  \n",
            "1          Redmi  \n",
            "2          Redmi  \n",
            "3          Redmi  \n",
            "4          Redmi  \n",
            "..           ...  \n",
            "115        Nokia  \n",
            "116        Tecno  \n",
            "117        Tecno  \n",
            "118        Tecno  \n",
            "119         Lava  \n",
            "\n",
            "[120 rows x 10 columns]\n"
          ]
        }
      ]
    },
    {
      "cell_type": "markdown",
      "source": [
        "## Pregunta 3\n",
        "Muestra las primeras cinco filas, las últimas cinco y el nombre de todas las columnas."
      ],
      "metadata": {
        "id": "AqDaTcfaTC79"
      }
    },
    {
      "cell_type": "code",
      "source": [
        "#Primeras 5 filas\n",
        "pn = 5 #Variable para primeras n filas\n",
        "un = 5 #Varialbe para ultimas n filas\n",
        "print(f'Las primeras {pn} filas, son:')\n",
        "print(df.head(pn))\n",
        "print()\n",
        "#Ultimas 5 filas\n",
        "print(f'Las ultimas {un} filas, son:')\n",
        "print(df.tail(un))\n",
        "print()\n",
        "#Nombre de las columnas\n",
        "print('El nombre de las columnas, son:')\n",
        "print(df.columns)"
      ],
      "metadata": {
        "id": "AYPcw8cLF361",
        "colab": {
          "base_uri": "https://localhost:8080/"
        },
        "outputId": "99acd7d5-2755-4956-80d1-446020234263"
      },
      "execution_count": null,
      "outputs": [
        {
          "output_type": "stream",
          "name": "stdout",
          "text": [
            "Las primeras 5 filas, son:\n",
            "   ID Marca                                    Modelo  RAM_GB  ROM_GB  \\\n",
            "0        10               Redmi 8 (Onyx Black, 64 GB)       4      64   \n",
            "1        10            Redmi 8 (Sapphire Blue, 64 GB)       4      32   \n",
            "2        10  Redmi Note 8 Pro (Electric Blue, 128 GB)       6      64   \n",
            "3        10           Redmi 8A Dual (Sea Blue, 64 GB)       3      64   \n",
            "4        10           Redmi 8A Dual (Sea Blue, 32 GB)       2      64   \n",
            "\n",
            "   Calificaciones  Rese–as  Estrellas  Precio de lista  Precio de venta  \\\n",
            "0          674638    50064        4.4            10999             9999   \n",
            "1          674638    50064        4.4            10999             9999   \n",
            "2           55815     4614        4.4            17999            16999   \n",
            "3             974       71        4.3             9750             9750   \n",
            "4            1246       81        4.2             8320             8320   \n",
            "\n",
            "  Nombre Marca  \n",
            "0        Redmi  \n",
            "1        Redmi  \n",
            "2        Redmi  \n",
            "3        Redmi  \n",
            "4        Redmi  \n",
            "\n",
            "Las ultimas 5 filas, son:\n",
            "     ID Marca                                      Modelo  RAM_GB  ROM_GB  \\\n",
            "115         6                                Nokia 105 SS       4      64   \n",
            "116        11     Tecno Spark Power 2 (Misty Grey, 64 GB)       4       4   \n",
            "117        11  Tecno Camon 15 (Fascinating Purple, 64 GB)       4      32   \n",
            "118        11          Tecno Camon 15 (SHOAL GOLD, 64 GB)       4      32   \n",
            "119         4                                Lava 34 Plus      32      32   \n",
            "\n",
            "     Calificaciones  Rese–as  Estrellas  Precio de lista  Precio de venta  \\\n",
            "115           75730     7229        4.3             1299             1299   \n",
            "116            9603     1157        4.4            11999             9999   \n",
            "117            2219      238        4.2            12499            11499   \n",
            "118            2219      238        4.2            12499            11499   \n",
            "119             361       34        4.1             1699             1699   \n",
            "\n",
            "    Nombre Marca  \n",
            "115        Nokia  \n",
            "116        Tecno  \n",
            "117        Tecno  \n",
            "118        Tecno  \n",
            "119         Lava  \n",
            "\n",
            "El nombre de las columnas, son:\n",
            "Index(['ID Marca', 'Modelo', 'RAM_GB', 'ROM_GB', 'Calificaciones', 'Rese–as',\n",
            "       'Estrellas', 'Precio de lista', 'Precio de venta', 'Nombre Marca'],\n",
            "      dtype='object')\n"
          ]
        }
      ]
    },
    {
      "cell_type": "markdown",
      "source": [
        "## Pregunta 4\n",
        "Utiliza los filtros para mostrar todos los teléfonos con 64GB en la columna `ROM_GB` e indica cuántos del listado poseen esta característica."
      ],
      "metadata": {
        "id": "m2HobjRsTz7V"
      }
    },
    {
      "cell_type": "code",
      "source": [
        "filtro_64GB = df[df[\"ROM_GB\"] == 64]\n",
        "print(filtro_64GB)\n",
        "print(len(filtro_64GB), \" telefonos tienen 64GB\")"
      ],
      "metadata": {
        "id": "-yfgYqiZF4yS",
        "colab": {
          "base_uri": "https://localhost:8080/"
        },
        "outputId": "6ff27a21-8166-42e7-9fa0-94305c820b7f"
      },
      "execution_count": null,
      "outputs": [
        {
          "output_type": "stream",
          "name": "stdout",
          "text": [
            "     ID Marca                                    Modelo  RAM_GB  ROM_GB  \\\n",
            "0          10               Redmi 8 (Onyx Black, 64 GB)       4      64   \n",
            "2          10  Redmi Note 8 Pro (Electric Blue, 128 GB)       6      64   \n",
            "3          10           Redmi 8A Dual (Sea Blue, 64 GB)       3      64   \n",
            "4          10           Redmi 8A Dual (Sea Blue, 32 GB)       2      64   \n",
            "5          10          Redmi 8A Dual (Sky White, 32 GB)       2      64   \n",
            "..        ...                                       ...     ...     ...   \n",
            "109         2                 I Kall K400 (Blue, 64 GB)       4      64   \n",
            "111         2                I Kall K1000 (Blue, 64 GB)       4      64   \n",
            "113         2                 I Kall K400 (Blue, 64 GB)       4      64   \n",
            "114         2                            I Kall K14 New      32      64   \n",
            "115         6                              Nokia 105 SS       4      64   \n",
            "\n",
            "     Calificaciones  Rese–as  Estrellas  Precio de lista  Precio de venta  \\\n",
            "0            674638    50064        4.4            10999             9999   \n",
            "2             55815     4614        4.4            17999            16999   \n",
            "3               974       71        4.3             9750             9750   \n",
            "4              1246       81        4.2             8320             8320   \n",
            "5              1246       81        4.2             8499             8249   \n",
            "..              ...      ...        ...              ...              ...   \n",
            "109             512       47        2.8             7299             7299   \n",
            "111             840      111        2.9             7699             7699   \n",
            "113             512       47        2.8             7299             7299   \n",
            "114            7229      822        3.4              609              609   \n",
            "115           75730     7229        4.3             1299             1299   \n",
            "\n",
            "    Nombre Marca  \n",
            "0          Redmi  \n",
            "2          Redmi  \n",
            "3          Redmi  \n",
            "4          Redmi  \n",
            "5          Redmi  \n",
            "..           ...  \n",
            "109       I Kall  \n",
            "111       I Kall  \n",
            "113       I Kall  \n",
            "114       I Kall  \n",
            "115        Nokia  \n",
            "\n",
            "[62 rows x 10 columns]\n",
            "62  telefonos tienen 64GB\n"
          ]
        }
      ]
    },
    {
      "cell_type": "markdown",
      "source": [
        "## Pregunta 5\n",
        "Haz un histograma (`hist`) de la columna `ROM_GB` del **data frame** `df`.\n",
        "\n",
        "El gráfico debe incluir un título y las columnas tener un color personalizado."
      ],
      "metadata": {
        "id": "tfXR1-kf_WQd"
      }
    },
    {
      "cell_type": "code",
      "source": [
        "plt.figure(figsize=(20,10))\n",
        "plt.hist(df['ROM_GB'], color= 'g')\n",
        "plt.title('ROM_GB')\n",
        "plt.show()"
      ],
      "metadata": {
        "id": "Dfk9NBLQGGb3",
        "colab": {
          "base_uri": "https://localhost:8080/",
          "height": 579
        },
        "outputId": "c87b8f4f-b5de-49c6-d716-9240004687a9"
      },
      "execution_count": null,
      "outputs": [
        {
          "output_type": "display_data",
          "data": {
            "text/plain": [
              "<Figure size 1440x720 with 1 Axes>"
            ],
            "image/png": "[encoded data removed]"
          },
          "metadata": {
            "needs_background": "light"
          }
        }
      ]
    },
    {
      "cell_type": "markdown",
      "source": [
        "## Pregunta 6\n",
        "Haz un diagrama de dispersión (`scatter`) con las siguientes características: el eje X deberá indicar el contenido de la columna `Precio de lista`, mientras que el eje Y expresará el contenido de la columna `Precio de venta`.\n",
        "\n",
        "El diagrama debe incluir un título y los puntos tener un color personalizado."
      ],
      "metadata": {
        "id": "U8QOkYQnBCDY"
      }
    },
    {
      "cell_type": "code",
      "source": [
        "plt.figure(figsize=(20,10))\n",
        "plt.scatter(df['Precio de lista'], df['Precio de venta'], color = 'red')\n",
        "plt.title('Precio de lista vs Precio de venta')\n",
        "plt.xlabel('Precio de lista')\n",
        "plt.ylabel('Precio de venta')\n",
        "plt.show()"
      ],
      "metadata": {
        "id": "ttIgS7LAGHDm",
        "colab": {
          "base_uri": "https://localhost:8080/",
          "height": 575
        },
        "outputId": "909354b2-404a-4093-9468-577963af7078"
      },
      "execution_count": null,
      "outputs": [
        {
          "output_type": "display_data",
          "data": {
            "text/plain": [
              "<Figure size 1440x720 with 1 Axes>"
            ],
            "image/png": "[encoded data removed]"
          },
          "metadata": {
            "needs_background": "light"
          }
        }
      ]
    },
    {
      "cell_type": "markdown",
      "source": [
        "## Pregunta 7\n",
        "\n",
        "Con base en el diagrama de la **pregunta 6**, responde la siguiente pregunta: ¿A qué conclusión podrías llegar si observas únicamente la gráfica?"
      ],
      "metadata": {
        "id": "qWHZAMi2DZos"
      }
    },
    {
      "cell_type": "markdown",
      "source": [
        "Todos los celulares se venden a un precio menor al precio de lista, mostrando que la mayoría se encuentran con un precio entre $7.000 y $30.000. Esto muestra que se tienen 8 tipos de celulares con valores atipicos (5 con precios altos y 3 con precios bajos a los datos centrales)"
      ],
      "metadata": {
        "id": "Aql08i4fGIxs"
      }
    },
    {
      "cell_type": "markdown",
      "source": [
        "## Pregunta 8\n",
        "Utiliza el código para obtener la siguiente información (ubicada en `df`).\n",
        "\n",
        "- Promedio de los precios de venta de los modelos marca **Realme**\n",
        "- Máximo de estrellas de los modelos marca **Redmi**\n",
        "- Mínimo de Estrellas de los modelos marca **Redmi**"
      ],
      "metadata": {
        "id": "3H4LtqjhEGME"
      }
    },
    {
      "cell_type": "code",
      "source": [
        "#Promedio precio de venta modelos marca Realme\n",
        "df_Realme = df[df[\"Nombre Marca\"] == \"Realme\"]\n",
        "print('El precio de venta, promedio, de los modelos de marca Realme, es:', np.mean(df_Realme[\"Precio de venta\"]))\n",
        "#MAximo de estrellas modelos marca Redmi\n",
        "df_estrella_redmi = df[df[\"Nombre Marca\"] == \"Redmi\"]\n",
        "print('El maximo de estrellas que tiene un modelo de marca Redmi, es:', np.max(df_estrella_redmi[\"Estrellas\"]))\n",
        "#Minimo de estrellas modelos marca Redmi\n",
        "print('El minimo de estrellas que tiene un modelo de marca Redmi, es:', np.min(df_estrella_redmi[\"Estrellas\"]))"
      ],
      "metadata": {
        "id": "8AApDz1dGKQr",
        "colab": {
          "base_uri": "https://localhost:8080/"
        },
        "outputId": "1017d78d-98c5-4cdb-9f30-b72ad91ff87d"
      },
      "execution_count": null,
      "outputs": [
        {
          "output_type": "stream",
          "name": "stdout",
          "text": [
            "El precio de venta, promedio, de los modelos de marca Realme, es: 12423.242424242424\n",
            "El maximo de estrellas que tiene un modelo de marca Redmi, es: 4.4\n",
            "El minimo de estrellas que tiene un modelo de marca Redmi, es: 4.2\n"
          ]
        }
      ]
    },
    {
      "cell_type": "markdown",
      "source": [
        "## Pregunta 9\n",
        "Utiliza un **Groupby** para mostrar la cantidad de estrellas promedio que cada marca tiene en `df`."
      ],
      "metadata": {
        "id": "ds4EGI0SHEKB"
      }
    },
    {
      "cell_type": "code",
      "source": [
        "print('Tabla donde muestra el promedio de estrellas de cada marca')\n",
        "promedio_Estrellas = df.groupby(by = \"Nombre Marca\")[\"Estrellas\"].mean()\n",
        "print(promedio_Estrellas)"
      ],
      "metadata": {
        "id": "U_iMhR_gGLBV",
        "colab": {
          "base_uri": "https://localhost:8080/"
        },
        "outputId": "87b99142-e4fc-4619-9623-007b15438980"
      },
      "execution_count": null,
      "outputs": [
        {
          "output_type": "stream",
          "name": "stdout",
          "text": [
            "Tabla donde muestra el promedio de estrellas de cada marca\n",
            "Nombre Marca\n",
            "Apple       4.554545\n",
            "I Kall      2.984615\n",
            "Infinix     4.387500\n",
            "Lava        4.100000\n",
            "Motorola    4.400000\n",
            "Nokia       4.300000\n",
            "Oppo        4.325000\n",
            "Poco        4.500000\n",
            "Realme      4.475758\n",
            "Redmi       4.340000\n",
            "Tecno       4.266667\n",
            "Vivo        4.375000\n",
            "Name: Estrellas, dtype: float64\n"
          ]
        }
      ]
    },
    {
      "cell_type": "markdown",
      "source": [
        "## Pregunta 10\n",
        "¿Qué otro dato puedes obtener de `df` y cómo lo extraerías? "
      ],
      "metadata": {
        "id": "ALRDH3eRHkZN"
      }
    },
    {
      "cell_type": "code",
      "source": [
        "#Descuento de cada Modelo (por precio y porcentaje), según el precio de lista y el precio de venta. Y agregarlo a la lista\n",
        "df_descuento = np.subtract(df[\"Precio de lista\"], df[\"Precio de venta\"])\n",
        "df_porcentaje = ((df_descuento / df[\"Precio de lista\"]) * 100)\n",
        "df = df.assign(Descuento = df_descuento)\n",
        "df = df.assign(Porcentaje_descuento = df_porcentaje)\n",
        "print(df)"
      ],
      "metadata": {
        "id": "9HUy8LdgGLvM",
        "colab": {
          "base_uri": "https://localhost:8080/"
        },
        "outputId": "f50ffc80-5a5e-4bb2-fd41-0ae66572ad75"
      },
      "execution_count": null,
      "outputs": [
        {
          "output_type": "stream",
          "name": "stdout",
          "text": [
            "     ID Marca                                      Modelo  RAM_GB  ROM_GB  \\\n",
            "0          10                 Redmi 8 (Onyx Black, 64 GB)       4      64   \n",
            "1          10              Redmi 8 (Sapphire Blue, 64 GB)       4      32   \n",
            "2          10    Redmi Note 8 Pro (Electric Blue, 128 GB)       6      64   \n",
            "3          10             Redmi 8A Dual (Sea Blue, 64 GB)       3      64   \n",
            "4          10             Redmi 8A Dual (Sea Blue, 32 GB)       2      64   \n",
            "..        ...                                         ...     ...     ...   \n",
            "115         6                                Nokia 105 SS       4      64   \n",
            "116        11     Tecno Spark Power 2 (Misty Grey, 64 GB)       4       4   \n",
            "117        11  Tecno Camon 15 (Fascinating Purple, 64 GB)       4      32   \n",
            "118        11          Tecno Camon 15 (SHOAL GOLD, 64 GB)       4      32   \n",
            "119         4                                Lava 34 Plus      32      32   \n",
            "\n",
            "     Calificaciones  Rese–as  Estrellas  Precio de lista  Precio de venta  \\\n",
            "0            674638    50064        4.4            10999             9999   \n",
            "1            674638    50064        4.4            10999             9999   \n",
            "2             55815     4614        4.4            17999            16999   \n",
            "3               974       71        4.3             9750             9750   \n",
            "4              1246       81        4.2             8320             8320   \n",
            "..              ...      ...        ...              ...              ...   \n",
            "115           75730     7229        4.3             1299             1299   \n",
            "116            9603     1157        4.4            11999             9999   \n",
            "117            2219      238        4.2            12499            11499   \n",
            "118            2219      238        4.2            12499            11499   \n",
            "119             361       34        4.1             1699             1699   \n",
            "\n",
            "    Nombre Marca  Descuento  Porcentaje_descuento  \n",
            "0          Redmi       1000              9.091736  \n",
            "1          Redmi       1000              9.091736  \n",
            "2          Redmi       1000              5.555864  \n",
            "3          Redmi          0              0.000000  \n",
            "4          Redmi          0              0.000000  \n",
            "..           ...        ...                   ...  \n",
            "115        Nokia          0              0.000000  \n",
            "116        Tecno       2000             16.668056  \n",
            "117        Tecno       1000              8.000640  \n",
            "118        Tecno       1000              8.000640  \n",
            "119         Lava          0              0.000000  \n",
            "\n",
            "[120 rows x 12 columns]\n"
          ]
        }
      ]
    },
    {
      "cell_type": "code",
      "source": [],
      "metadata": {
        "id": "mdbnGF5Iu3LG"
      },
      "execution_count": null,
      "outputs": []
    },
    {
      "cell_type": "markdown",
      "source": [
        "### **Extraer el celular mas barato y mas costoso con el numero de estrellas que posee y su respectivo descuento**"
      ],
      "metadata": {
        "id": "_HD0She3tTpT"
      }
    },
    {
      "cell_type": "code",
      "source": [
        "#Extraer el celular mas barato y mas costoso con el numero de estrellas que posee y su respectivo descuento\n",
        "df_precio = df[\"Precio de venta\"]\n",
        "df_precio_max = np.max(df_precio)\n",
        "df_precio_min = np.min(df_precio)\n",
        "print(df.loc[:, [\"Modelo\", \"Estrellas\", \"Precio de venta\", \"Porcentaje_descuento\"]][df[\"Precio de venta\"] == df_precio_max])\n",
        "print(df.loc[:, [\"Modelo\", \"Estrellas\", \"Precio de venta\", \"Porcentaje_descuento\"]][df[\"Precio de venta\"] == df_precio_min])"
      ],
      "metadata": {
        "colab": {
          "base_uri": "https://localhost:8080/"
        },
        "id": "AhaiC3aKpfWF",
        "outputId": "e53d0631-9d39-45d3-c873-59a35dbc7746"
      },
      "execution_count": null,
      "outputs": [
        {
          "output_type": "stream",
          "name": "stdout",
          "text": [
            "                             Modelo  Estrellas  Precio de venta  \\\n",
            "57  Apple iPhone XR (White, 128 GB)        4.6            52999   \n",
            "\n",
            "    Porcentaje_descuento  \n",
            "57              8.306228  \n",
            "             Modelo  Estrellas  Precio de venta  Porcentaje_descuento\n",
            "114  I Kall K14 New        3.4              609                   0.0\n"
          ]
        }
      ]
    },
    {
      "cell_type": "markdown",
      "source": [
        "### **Cual es el celular con mayor estrellas, y su precio de venta**"
      ],
      "metadata": {
        "id": "IKzlgzZutZjv"
      }
    },
    {
      "cell_type": "code",
      "source": [
        "#Cual es el celular con mayor estrellas, y su precio de venta\n",
        "df_estrellas = df[\"Estrellas\"]\n",
        "df_estrellas_max = np.max(df_estrellas)\n",
        "print(df.loc[:, [\"Modelo\", \"Estrellas\", \"Precio de venta\", \"Porcentaje_descuento\"]][df[\"Estrellas\"] == df_estrellas_max])"
      ],
      "metadata": {
        "colab": {
          "base_uri": "https://localhost:8080/"
        },
        "id": "5LOHLuTSuEyC",
        "outputId": "cd7a8fa4-5d57-4427-ab88-d8fb317eadc1"
      },
      "execution_count": null,
      "outputs": [
        {
          "output_type": "stream",
          "name": "stdout",
          "text": [
            "                                   Modelo  Estrellas  Precio de venta  \\\n",
            "13         Realme C11 (Rich Green, 32 GB)        4.6             7499   \n",
            "14          Realme C11 (Rich Grey, 32 GB)        4.6             7499   \n",
            "15     Realme Narzo 10A (So White, 32 GB)        4.6             8999   \n",
            "16      Realme Narzo 10A (So Blue, 64 GB)        4.6             9999   \n",
            "17     Realme Narzo 10A (So White, 64 GB)        4.6             9999   \n",
            "18      Realme Narzo 10A (So Blue, 32 GB)        4.6             8999   \n",
            "48         Apple iPhone XR (Black, 64 GB)        4.6            46999   \n",
            "51  Apple iPhone XR ((PRODUCT)RED, 64 GB)        4.6            46999   \n",
            "54          Apple iPhone XR (Blue, 64 GB)        4.6            46999   \n",
            "55          Apple iPhone XR (Blue, 64 GB)        4.6            46999   \n",
            "57        Apple iPhone XR (White, 128 GB)        4.6            52999   \n",
            "58         Apple iPhone XR (White, 64 GB)        4.6            46999   \n",
            "\n",
            "    Porcentaje_descuento  \n",
            "13             16.668519  \n",
            "14             16.668519  \n",
            "15             10.001000  \n",
            "16              9.091736  \n",
            "17              9.091736  \n",
            "18             10.001000  \n",
            "48             10.478095  \n",
            "51             10.478095  \n",
            "54             10.478095  \n",
            "55             10.478095  \n",
            "57              8.306228  \n",
            "58             10.478095  \n"
          ]
        }
      ]
    },
    {
      "cell_type": "markdown",
      "source": [
        "### **Mostrar un gráfico del promedio de estrellas de cada marca y la distribución total de estrellas de todas las marcas**"
      ],
      "metadata": {
        "id": "fVwM0F6JoWh6"
      }
    },
    {
      "cell_type": "code",
      "source": [
        "plt.figure(figsize=(20,10))\n",
        "plt.bar(df_marcas['Nombre Marca'], promedio_Estrellas, color = 'cyan')\n",
        "plt.ylabel('Estrellas')\n",
        "plt.xlabel('Marcas')\n",
        "plt.title('Promedio estrellas por marca')\n",
        "plt.grid(True)\n",
        "plt.show()"
      ],
      "metadata": {
        "id": "QN9Araxcyonk",
        "colab": {
          "base_uri": "https://localhost:8080/",
          "height": 589
        },
        "outputId": "8de68d23-d46b-49ae-d937-9be6f7e67ab3"
      },
      "execution_count": null,
      "outputs": [
        {
          "output_type": "display_data",
          "data": {
            "text/plain": [
              "<Figure size 1440x720 with 1 Axes>"
            ],
            "image/png": "[encoded data removed]"
          },
          "metadata": {
            "needs_background": "light"
          }
        }
      ]
    },
    {
      "cell_type": "code",
      "source": [
        "plt.figure(figsize=(20,10))\n",
        "plt.violinplot(df['Estrellas'])\n",
        "plt.title('Distribucion de estrellas')\n",
        "plt.ylabel('Estrellas')\n",
        "plt.show()"
      ],
      "metadata": {
        "colab": {
          "base_uri": "https://localhost:8080/",
          "height": 568
        },
        "id": "wQW-6D3XsFyK",
        "outputId": "9597fae5-0df1-41fa-872e-5b3c5cc15b86"
      },
      "execution_count": null,
      "outputs": [
        {
          "output_type": "display_data",
          "data": {
            "text/plain": [
              "<Figure size 1440x720 with 1 Axes>"
            ],
            "image/png": "[encoded data removed]"
          },
          "metadata": {
            "needs_background": "light"
          }
        }
      ]
    }
  ]
}
{
  "nbformat": 4,
  "nbformat_minor": 0,
  "metadata": {
    "colab": {
      "provenance": [],
      "toc_visible": true
    },
    "kernelspec": {
      "name": "python3",
      "display_name": "Python 3"
    },
    "language_info": {
      "name": "python"
    }
  },
  "cells": [
    {
      "cell_type": "markdown",
      "source": [
        "# **Project module 1. Python for Data Science**\n",
        "\n"
      ],
      "metadata": {
        "id": "fR3jvxoWv9WN"
      }
    },
    {
      "cell_type": "markdown",
      "source": [
        "There will be two data sets that contain information about cell phones of different brands.\n",
        "\n",
        "You need to read the data set and then answer each of the questions asked."
      ],
      "metadata": {
        "id": "XgO7tgiiCjFv"
      }
    },
    {
      "cell_type": "code",
      "source": [
        "#Conect google.colab with google drive\n",
        "from google.colab import drive\n",
        "drive.mount('/content/drive')"
      ],
      "metadata": {
        "colab": {
          "base_uri": "https://localhost:8080/"
        },
        "id": "Q7DD3TsR6l6I",
        "outputId": "a9de922d-e3ea-497c-bfc1-211da2dbacfb"
      },
      "execution_count": 1,
      "outputs": [
        {
          "output_type": "stream",
          "name": "stdout",
          "text": [
            "Mounted at /content/drive\n"
          ]
        }
      ]
    },
    {
      "cell_type": "code",
      "execution_count": 2,
      "metadata": {
        "id": "LjNwIEwZN8nP"
      },
      "outputs": [],
      "source": [
        "# Import all the necessary libraries\n",
        "import pandas as pd\n",
        "import numpy as np\n",
        "import matplotlib.pyplot as plt "
      ]
    },
    {
      "cell_type": "markdown",
      "source": [
        "## Question 1\n",
        "Download the following files:\n",
        "- This Excel file lists different cell phones and a series of ratings from different users: https://drive.google.com/file/d/1atasE-fuDyAt8Z7JGZQroKJwjNkbpyrn/view?usp=sharing \n",
        "- This document includes a list of the brands of these cell phones: https://drive.google.com/file/d/1ICBvPkSVajVVMHyrMABYiwuwefv_3oPJ/view?usp=sharing\n",
        "\n",
        "Upload these documents in **Google Drive** and named them as `df_modelos` y `df_marcas`.\n",
        "\n",
        "Indicates in a single code the number of rows that the file has `df_modelos` that you created.\n",
        "\n"
      ],
      "metadata": {
        "id": "IksPNalDSH7R"
      }
    },
    {
      "cell_type": "code",
      "source": [
        "df_modelos = pd.read_csv(\"/content/drive/MyDrive/1. DataScienci/proyectoModulo_1/Modelos.csv\", encoding='cp1252')\n",
        "df_marcas = pd.read_csv(\"/content/drive/MyDrive/1. DataScienci/proyectoModulo_1/Marcas.csv\")\n",
        "print(df_modelos)\n",
        "print(df_marcas)"
      ],
      "metadata": {
        "id": "I4iNlf32F1LE",
        "colab": {
          "base_uri": "https://localhost:8080/"
        },
        "outputId": "00d04900-48bf-4ca2-8831-a3ee8eb32ad2"
      },
      "execution_count": 3,
      "outputs": [
        {
          "output_type": "stream",
          "name": "stdout",
          "text": [
            "     ID Marca                                   Modelo  RAM_GB  ROM_GB  \\\n",
            "0          10              Redmi 8 (Onyx Black, 64 GB)       4      64   \n",
            "1           9          Realme 5i (Forest Green, 64 GB)       4      64   \n",
            "2           9             Realme 5i (Aqua Blue, 64 GB)       4      64   \n",
            "3          10           Redmi 8 (Sapphire Blue, 64 GB)       4      32   \n",
            "4           8          POCO X2 (Matrix Purple, 128 GB)       6      64   \n",
            "..        ...                                      ...     ...     ...   \n",
            "115         4                             Lava 34 Plus      32      32   \n",
            "116         9            Realme 6 (Comet Blue, 128 GB)       6     128   \n",
            "117         9  Realme 6 Pro (Lightning Orange, 128 GB)       8     128   \n",
            "118         2                           I Kall K14 New      32      64   \n",
            "119         1           Apple iPhone XR (White, 64 GB)       0      64   \n",
            "\n",
            "     Calificaciones  Rese–as  Estrellas  Precio de lista  Precio de venta  \n",
            "0            674638    50064        4.4            10999             9999  \n",
            "1            243106    16497        4.5            10999            10999  \n",
            "2            243106    16497        4.5            10999            10999  \n",
            "3            674638    50064        4.4            10999             9999  \n",
            "4            133486    14732        4.5            19999            18499  \n",
            "..              ...      ...        ...              ...              ...  \n",
            "115             361       34        4.1             1699             1699  \n",
            "116           30622     3002        4.4            16999            16999  \n",
            "117           14361     1671        4.4            19999            19999  \n",
            "118            7229      822        3.4              609              609  \n",
            "119           11572      975        4.6            52500            46999  \n",
            "\n",
            "[120 rows x 9 columns]\n",
            "    ID Marca Nombre Marca\n",
            "0          1        Apple\n",
            "1          2       I Kall\n",
            "2          3      Infinix\n",
            "3          4         Lava\n",
            "4          5     Motorola\n",
            "5          6        Nokia\n",
            "6          7         Oppo\n",
            "7          8         Poco\n",
            "8          9       Realme\n",
            "9         10        Redmi\n",
            "10        11        Tecno\n",
            "11        12         Vivo\n"
          ]
        }
      ]
    },
    {
      "cell_type": "markdown",
      "source": [
        "## Question 2\n",
        "Do a `merge` with both **data frames**, to generate a new **data frame** that includes data from `df_modelos` y `df_marcas`. Your new **data frame** name it as `df`.\n",
        "\n",
        "**TIP**: Both files have a column name, named `ID Marca`."
      ],
      "metadata": {
        "id": "cfoZq-nr2OkO"
      }
    },
    {
      "cell_type": "code",
      "source": [
        "df = df_modelos.merge(df_marcas, left_on='ID Marca', right_on='ID Marca')\n",
        "print(df)"
      ],
      "metadata": {
        "id": "S1L6Hn8VF2_v",
        "colab": {
          "base_uri": "https://localhost:8080/"
        },
        "outputId": "1948f8f1-1fe7-465d-a829-ca3d6bd6e53e"
      },
      "execution_count": 4,
      "outputs": [
        {
          "output_type": "stream",
          "name": "stdout",
          "text": [
            "     ID Marca                                      Modelo  RAM_GB  ROM_GB  \\\n",
            "0          10                 Redmi 8 (Onyx Black, 64 GB)       4      64   \n",
            "1          10              Redmi 8 (Sapphire Blue, 64 GB)       4      32   \n",
            "2          10    Redmi Note 8 Pro (Electric Blue, 128 GB)       6      64   \n",
            "3          10             Redmi 8A Dual (Sea Blue, 64 GB)       3      64   \n",
            "4          10             Redmi 8A Dual (Sea Blue, 32 GB)       2      64   \n",
            "..        ...                                         ...     ...     ...   \n",
            "115         6                                Nokia 105 SS       4      64   \n",
            "116        11     Tecno Spark Power 2 (Misty Grey, 64 GB)       4       4   \n",
            "117        11  Tecno Camon 15 (Fascinating Purple, 64 GB)       4      32   \n",
            "118        11          Tecno Camon 15 (SHOAL GOLD, 64 GB)       4      32   \n",
            "119         4                                Lava 34 Plus      32      32   \n",
            "\n",
            "     Calificaciones  Rese–as  Estrellas  Precio de lista  Precio de venta  \\\n",
            "0            674638    50064        4.4            10999             9999   \n",
            "1            674638    50064        4.4            10999             9999   \n",
            "2             55815     4614        4.4            17999            16999   \n",
            "3               974       71        4.3             9750             9750   \n",
            "4              1246       81        4.2             8320             8320   \n",
            "..              ...      ...        ...              ...              ...   \n",
            "115           75730     7229        4.3             1299             1299   \n",
            "116            9603     1157        4.4            11999             9999   \n",
            "117            2219      238        4.2            12499            11499   \n",
            "118            2219      238        4.2            12499            11499   \n",
            "119             361       34        4.1             1699             1699   \n",
            "\n",
            "    Nombre Marca  \n",
            "0          Redmi  \n",
            "1          Redmi  \n",
            "2          Redmi  \n",
            "3          Redmi  \n",
            "4          Redmi  \n",
            "..           ...  \n",
            "115        Nokia  \n",
            "116        Tecno  \n",
            "117        Tecno  \n",
            "118        Tecno  \n",
            "119         Lava  \n",
            "\n",
            "[120 rows x 10 columns]\n"
          ]
        }
      ]
    },
    {
      "cell_type": "markdown",
      "source": [
        "## Question 3\n",
        "Show the first five rows, the last five and all column names."
      ],
      "metadata": {
        "id": "AqDaTcfaTC79"
      }
    },
    {
      "cell_type": "code",
      "source": [
        "#First five rows\n",
        "pn = 5 #Variable for first n rows\n",
        "un = 5 #Variable for last n rows\n",
        "print(f'The first {pn} rows, are:')\n",
        "print(df.head(pn))\n",
        "print()\n",
        "#Last 5 rows\n",
        "print(f'the last {un} rows, are:')\n",
        "print(df.tail(un))\n",
        "print()\n",
        "#Column names\n",
        "print('The column names, are:')\n",
        "print(df.columns)"
      ],
      "metadata": {
        "id": "AYPcw8cLF361",
        "colab": {
          "base_uri": "https://localhost:8080/"
        },
        "outputId": "38794aee-fcba-46bc-ca1a-87fc16f498f0"
      },
      "execution_count": 5,
      "outputs": [
        {
          "output_type": "stream",
          "name": "stdout",
          "text": [
            "The first 5 rows, are:\n",
            "   ID Marca                                    Modelo  RAM_GB  ROM_GB  \\\n",
            "0        10               Redmi 8 (Onyx Black, 64 GB)       4      64   \n",
            "1        10            Redmi 8 (Sapphire Blue, 64 GB)       4      32   \n",
            "2        10  Redmi Note 8 Pro (Electric Blue, 128 GB)       6      64   \n",
            "3        10           Redmi 8A Dual (Sea Blue, 64 GB)       3      64   \n",
            "4        10           Redmi 8A Dual (Sea Blue, 32 GB)       2      64   \n",
            "\n",
            "   Calificaciones  Rese–as  Estrellas  Precio de lista  Precio de venta  \\\n",
            "0          674638    50064        4.4            10999             9999   \n",
            "1          674638    50064        4.4            10999             9999   \n",
            "2           55815     4614        4.4            17999            16999   \n",
            "3             974       71        4.3             9750             9750   \n",
            "4            1246       81        4.2             8320             8320   \n",
            "\n",
            "  Nombre Marca  \n",
            "0        Redmi  \n",
            "1        Redmi  \n",
            "2        Redmi  \n",
            "3        Redmi  \n",
            "4        Redmi  \n",
            "\n",
            "the last 5 rows, are:\n",
            "     ID Marca                                      Modelo  RAM_GB  ROM_GB  \\\n",
            "115         6                                Nokia 105 SS       4      64   \n",
            "116        11     Tecno Spark Power 2 (Misty Grey, 64 GB)       4       4   \n",
            "117        11  Tecno Camon 15 (Fascinating Purple, 64 GB)       4      32   \n",
            "118        11          Tecno Camon 15 (SHOAL GOLD, 64 GB)       4      32   \n",
            "119         4                                Lava 34 Plus      32      32   \n",
            "\n",
            "     Calificaciones  Rese–as  Estrellas  Precio de lista  Precio de venta  \\\n",
            "115           75730     7229        4.3             1299             1299   \n",
            "116            9603     1157        4.4            11999             9999   \n",
            "117            2219      238        4.2            12499            11499   \n",
            "118            2219      238        4.2            12499            11499   \n",
            "119             361       34        4.1             1699             1699   \n",
            "\n",
            "    Nombre Marca  \n",
            "115        Nokia  \n",
            "116        Tecno  \n",
            "117        Tecno  \n",
            "118        Tecno  \n",
            "119         Lava  \n",
            "\n",
            "The column names, are:\n",
            "Index(['ID Marca', 'Modelo', 'RAM_GB', 'ROM_GB', 'Calificaciones', 'Rese–as',\n",
            "       'Estrellas', 'Precio de lista', 'Precio de venta', 'Nombre Marca'],\n",
            "      dtype='object')\n"
          ]
        }
      ]
    },
    {
      "cell_type": "markdown",
      "source": [
        "## Question 4\n",
        "Use filters to show all the phones with 64GB at `ROM_GB` column and indicates how many of the list have this characteristic. "
      ],
      "metadata": {
        "id": "m2HobjRsTz7V"
      }
    },
    {
      "cell_type": "code",
      "source": [
        "filter_64GB = df[df[\"ROM_GB\"] == 64]\n",
        "print(filter_64GB)\n",
        "print(len(filter_64GB), \"phones have 64GB\")"
      ],
      "metadata": {
        "id": "-yfgYqiZF4yS",
        "colab": {
          "base_uri": "https://localhost:8080/"
        },
        "outputId": "fd47c0b3-11a0-4188-9c55-f3661985b1b1"
      },
      "execution_count": 8,
      "outputs": [
        {
          "output_type": "stream",
          "name": "stdout",
          "text": [
            "     ID Marca                                    Modelo  RAM_GB  ROM_GB  \\\n",
            "0          10               Redmi 8 (Onyx Black, 64 GB)       4      64   \n",
            "2          10  Redmi Note 8 Pro (Electric Blue, 128 GB)       6      64   \n",
            "3          10           Redmi 8A Dual (Sea Blue, 64 GB)       3      64   \n",
            "4          10           Redmi 8A Dual (Sea Blue, 32 GB)       2      64   \n",
            "5          10          Redmi 8A Dual (Sky White, 32 GB)       2      64   \n",
            "..        ...                                       ...     ...     ...   \n",
            "109         2                 I Kall K400 (Blue, 64 GB)       4      64   \n",
            "111         2                I Kall K1000 (Blue, 64 GB)       4      64   \n",
            "113         2                 I Kall K400 (Blue, 64 GB)       4      64   \n",
            "114         2                            I Kall K14 New      32      64   \n",
            "115         6                              Nokia 105 SS       4      64   \n",
            "\n",
            "     Calificaciones  Rese–as  Estrellas  Precio de lista  Precio de venta  \\\n",
            "0            674638    50064        4.4            10999             9999   \n",
            "2             55815     4614        4.4            17999            16999   \n",
            "3               974       71        4.3             9750             9750   \n",
            "4              1246       81        4.2             8320             8320   \n",
            "5              1246       81        4.2             8499             8249   \n",
            "..              ...      ...        ...              ...              ...   \n",
            "109             512       47        2.8             7299             7299   \n",
            "111             840      111        2.9             7699             7699   \n",
            "113             512       47        2.8             7299             7299   \n",
            "114            7229      822        3.4              609              609   \n",
            "115           75730     7229        4.3             1299             1299   \n",
            "\n",
            "    Nombre Marca  \n",
            "0          Redmi  \n",
            "2          Redmi  \n",
            "3          Redmi  \n",
            "4          Redmi  \n",
            "5          Redmi  \n",
            "..           ...  \n",
            "109       I Kall  \n",
            "111       I Kall  \n",
            "113       I Kall  \n",
            "114       I Kall  \n",
            "115        Nokia  \n",
            "\n",
            "[62 rows x 10 columns]\n",
            "62 phones have 64GB\n"
          ]
        }
      ]
    },
    {
      "cell_type": "markdown",
      "source": [
        "## Question 5\n",
        "Make a histogram (`hist`) of the column `ROM_GB` from **data frame** `df`.\n",
        "\n",
        "The graphic must has a title and the columns must have a customize color."
      ],
      "metadata": {
        "id": "tfXR1-kf_WQd"
      }
    },
    {
      "cell_type": "code",
      "source": [
        "plt.figure(figsize=(20,10))\n",
        "plt.hist(df['ROM_GB'], color= 'g')\n",
        "plt.title('ROM_GB')\n",
        "plt.show()"
      ],
      "metadata": {
        "id": "Dfk9NBLQGGb3",
        "colab": {
          "base_uri": "https://localhost:8080/",
          "height": 607
        },
        "outputId": "f3397af9-7455-42a5-a817-4b9049d1c062"
      },
      "execution_count": 9,
      "outputs": [
        {
          "output_type": "display_data",
          "data": {
            "text/plain": [
              "<Figure size 1440x720 with 1 Axes>"
            ],
            "image/png": "[encoded data removed]"
          },
          "metadata": {
            "needs_background": "light"
          }
        }
      ]
    },
    {
      "cell_type": "markdown",
      "source": [
        "## Question 6\n",
        "Make a scatterplot (`scatter`) with the following characteristics: the X axis should indicate the content of the column `Precio de lista`, while the Y axis will express the content of the column `Precio de venta`.\n",
        "\n",
        "The diagram must include a title and the points have a custom color."
      ],
      "metadata": {
        "id": "U8QOkYQnBCDY"
      }
    },
    {
      "cell_type": "code",
      "source": [
        "plt.figure(figsize=(20,10))\n",
        "plt.scatter(df['Precio de lista'], df['Precio de venta'], color = 'red')\n",
        "plt.title('List Price vs Sale Price')\n",
        "plt.xlabel('List Price')\n",
        "plt.ylabel('Sale Price')\n",
        "plt.show()"
      ],
      "metadata": {
        "id": "ttIgS7LAGHDm",
        "colab": {
          "base_uri": "https://localhost:8080/",
          "height": 621
        },
        "outputId": "61ebfa52-fbaf-4d58-847a-fe7f9a064ac5"
      },
      "execution_count": 10,
      "outputs": [
        {
          "output_type": "display_data",
          "data": {
            "text/plain": [
              "<Figure size 1440x720 with 1 Axes>"
            ],
            "image/png": "[encoded data removed]"
          },
          "metadata": {
            "needs_background": "light"
          }
        }
      ]
    },
    {
      "cell_type": "markdown",
      "source": [
        "## Question 7\n",
        "\n",
        "Based on the diagram in **question 6**, answer the following question: What conclusion could you reach if you only looked at the graph?"
      ],
      "metadata": {
        "id": "qWHZAMi2DZos"
      }
    },
    {
      "cell_type": "markdown",
      "source": [
        "All cell phones are sold for less than list price, showing that most are priced between $7,000 and $30,000. This shows that there are 8 types of cell phones with outliers (5 with high prices and 3 with low prices to the central data)."
      ],
      "metadata": {
        "id": "Aql08i4fGIxs"
      }
    },
    {
      "cell_type": "markdown",
      "source": [
        "## Question 8\n",
        "Use code to have the following information.\n",
        "\n",
        "- Average sales prices of brand models **Realme**\n",
        "- Maximum stars of brand models **Redmi**\n",
        "- Minimum Stars of brand models **Redmi**"
      ],
      "metadata": {
        "id": "3H4LtqjhEGME"
      }
    },
    {
      "cell_type": "code",
      "source": [
        "#Average sales prices of brand models Realme\n",
        "df_Realme = df[df[\"Nombre Marca\"] == \"Realme\"]\n",
        "print('Sale Priice, average, of brand models Realme, is:', np.mean(df_Realme[\"Precio de venta\"]))\n",
        "#Maximum stars of brand models Redmi\n",
        "df_estrella_redmi = df[df[\"Nombre Marca\"] == \"Redmi\"]\n",
        "print('The Maximum stars of brand models Redmi, is:', np.max(df_estrella_redmi[\"Estrellas\"]))\n",
        "#Minimum Stars of brand models Redmi\n",
        "print('The Minimum Stars of brand models Redmi, is:', np.min(df_estrella_redmi[\"Estrellas\"]))"
      ],
      "metadata": {
        "id": "8AApDz1dGKQr",
        "colab": {
          "base_uri": "https://localhost:8080/"
        },
        "outputId": "feeb77d5-4dbb-4c49-8dd0-efc41eebc29b"
      },
      "execution_count": 12,
      "outputs": [
        {
          "output_type": "stream",
          "name": "stdout",
          "text": [
            "Sale Priice, average, of brand models Realme, is: 12423.242424242424\n",
            "The Maximum stars of brand models Redmi, is: 4.4\n",
            "The Minimum Stars of brand models Redmi, is: 4.2\n"
          ]
        }
      ]
    },
    {
      "cell_type": "markdown",
      "source": [
        "## Question 9\n",
        "Use a **Groupby** to display the average stars that each brand has in `df`."
      ],
      "metadata": {
        "id": "ds4EGI0SHEKB"
      }
    },
    {
      "cell_type": "code",
      "source": [
        "print('Table showing the average number of stars for each brand')\n",
        "promedio_Estrellas = df.groupby(by = \"Nombre Marca\")[\"Estrellas\"].mean()\n",
        "print(promedio_Estrellas)"
      ],
      "metadata": {
        "id": "U_iMhR_gGLBV",
        "colab": {
          "base_uri": "https://localhost:8080/"
        },
        "outputId": "3b22bbf4-97d8-4d44-95e9-b5b85e11274d"
      },
      "execution_count": 13,
      "outputs": [
        {
          "output_type": "stream",
          "name": "stdout",
          "text": [
            "Table showing the average number of stars for each brand\n",
            "Nombre Marca\n",
            "Apple       4.554545\n",
            "I Kall      2.984615\n",
            "Infinix     4.387500\n",
            "Lava        4.100000\n",
            "Motorola    4.400000\n",
            "Nokia       4.300000\n",
            "Oppo        4.325000\n",
            "Poco        4.500000\n",
            "Realme      4.475758\n",
            "Redmi       4.340000\n",
            "Tecno       4.266667\n",
            "Vivo        4.375000\n",
            "Name: Estrellas, dtype: float64\n"
          ]
        }
      ]
    },
    {
      "cell_type": "markdown",
      "source": [
        "## Question 10\n",
        "What other data can you get from `df` and how would you extract it?"
      ],
      "metadata": {
        "id": "ALRDH3eRHkZN"
      }
    },
    {
      "cell_type": "markdown",
      "source": [
        "### Discount of each Model (by price and percentage), according to the list price and the sale price. And add it to the list"
      ],
      "metadata": {
        "id": "eiG7Qm1HKw3h"
      }
    },
    {
      "cell_type": "code",
      "source": [
        "df_descuento = np.subtract(df[\"Precio de lista\"], df[\"Precio de venta\"])\n",
        "df_porcentaje = ((df_descuento / df[\"Precio de lista\"]) * 100)\n",
        "df = df.assign(Descuento = df_descuento)\n",
        "df = df.assign(Porcentaje_descuento = df_porcentaje)\n",
        "print(df)"
      ],
      "metadata": {
        "id": "9HUy8LdgGLvM",
        "colab": {
          "base_uri": "https://localhost:8080/"
        },
        "outputId": "aeccd80f-1812-4f2a-928a-4ee437524b40"
      },
      "execution_count": 14,
      "outputs": [
        {
          "output_type": "stream",
          "name": "stdout",
          "text": [
            "     ID Marca                                      Modelo  RAM_GB  ROM_GB  \\\n",
            "0          10                 Redmi 8 (Onyx Black, 64 GB)       4      64   \n",
            "1          10              Redmi 8 (Sapphire Blue, 64 GB)       4      32   \n",
            "2          10    Redmi Note 8 Pro (Electric Blue, 128 GB)       6      64   \n",
            "3          10             Redmi 8A Dual (Sea Blue, 64 GB)       3      64   \n",
            "4          10             Redmi 8A Dual (Sea Blue, 32 GB)       2      64   \n",
            "..        ...                                         ...     ...     ...   \n",
            "115         6                                Nokia 105 SS       4      64   \n",
            "116        11     Tecno Spark Power 2 (Misty Grey, 64 GB)       4       4   \n",
            "117        11  Tecno Camon 15 (Fascinating Purple, 64 GB)       4      32   \n",
            "118        11          Tecno Camon 15 (SHOAL GOLD, 64 GB)       4      32   \n",
            "119         4                                Lava 34 Plus      32      32   \n",
            "\n",
            "     Calificaciones  Rese–as  Estrellas  Precio de lista  Precio de venta  \\\n",
            "0            674638    50064        4.4            10999             9999   \n",
            "1            674638    50064        4.4            10999             9999   \n",
            "2             55815     4614        4.4            17999            16999   \n",
            "3               974       71        4.3             9750             9750   \n",
            "4              1246       81        4.2             8320             8320   \n",
            "..              ...      ...        ...              ...              ...   \n",
            "115           75730     7229        4.3             1299             1299   \n",
            "116            9603     1157        4.4            11999             9999   \n",
            "117            2219      238        4.2            12499            11499   \n",
            "118            2219      238        4.2            12499            11499   \n",
            "119             361       34        4.1             1699             1699   \n",
            "\n",
            "    Nombre Marca  Descuento  Porcentaje_descuento  \n",
            "0          Redmi       1000              9.091736  \n",
            "1          Redmi       1000              9.091736  \n",
            "2          Redmi       1000              5.555864  \n",
            "3          Redmi          0              0.000000  \n",
            "4          Redmi          0              0.000000  \n",
            "..           ...        ...                   ...  \n",
            "115        Nokia          0              0.000000  \n",
            "116        Tecno       2000             16.668056  \n",
            "117        Tecno       1000              8.000640  \n",
            "118        Tecno       1000              8.000640  \n",
            "119         Lava          0              0.000000  \n",
            "\n",
            "[120 rows x 12 columns]\n"
          ]
        }
      ]
    },
    {
      "cell_type": "markdown",
      "source": [
        "### **Extract the cheapest and most expensive cell phone with the number of stars it has and its respective discount**"
      ],
      "metadata": {
        "id": "_HD0She3tTpT"
      }
    },
    {
      "cell_type": "code",
      "source": [
        "df_precio = df[\"Precio de venta\"]\n",
        "df_precio_max = np.max(df_precio)\n",
        "df_precio_min = np.min(df_precio)\n",
        "print(df.loc[:, [\"Modelo\", \"Estrellas\", \"Precio de venta\", \"Porcentaje_descuento\"]][df[\"Precio de venta\"] == df_precio_max])\n",
        "print(df.loc[:, [\"Modelo\", \"Estrellas\", \"Precio de venta\", \"Porcentaje_descuento\"]][df[\"Precio de venta\"] == df_precio_min])"
      ],
      "metadata": {
        "colab": {
          "base_uri": "https://localhost:8080/"
        },
        "id": "AhaiC3aKpfWF",
        "outputId": "53d7d1c0-dffb-4a27-d3fd-d3e9026d1ef8"
      },
      "execution_count": 15,
      "outputs": [
        {
          "output_type": "stream",
          "name": "stdout",
          "text": [
            "                             Modelo  Estrellas  Precio de venta  \\\n",
            "57  Apple iPhone XR (White, 128 GB)        4.6            52999   \n",
            "\n",
            "    Porcentaje_descuento  \n",
            "57              8.306228  \n",
            "             Modelo  Estrellas  Precio de venta  Porcentaje_descuento\n",
            "114  I Kall K14 New        3.4              609                   0.0\n"
          ]
        }
      ]
    },
    {
      "cell_type": "markdown",
      "source": [
        "### **What is the cell phone with the most stars and its sale price**"
      ],
      "metadata": {
        "id": "IKzlgzZutZjv"
      }
    },
    {
      "cell_type": "code",
      "source": [
        "df_estrellas = df[\"Estrellas\"]\n",
        "df_estrellas_max = np.max(df_estrellas)\n",
        "print(df.loc[:, [\"Modelo\", \"Estrellas\", \"Precio de venta\", \"Porcentaje_descuento\"]][df[\"Estrellas\"] == df_estrellas_max])"
      ],
      "metadata": {
        "colab": {
          "base_uri": "https://localhost:8080/"
        },
        "id": "5LOHLuTSuEyC",
        "outputId": "c7351b29-bae9-4218-f35d-0f89de558fce"
      },
      "execution_count": 16,
      "outputs": [
        {
          "output_type": "stream",
          "name": "stdout",
          "text": [
            "                                   Modelo  Estrellas  Precio de venta  \\\n",
            "13         Realme C11 (Rich Green, 32 GB)        4.6             7499   \n",
            "14          Realme C11 (Rich Grey, 32 GB)        4.6             7499   \n",
            "15     Realme Narzo 10A (So White, 32 GB)        4.6             8999   \n",
            "16      Realme Narzo 10A (So Blue, 64 GB)        4.6             9999   \n",
            "17     Realme Narzo 10A (So White, 64 GB)        4.6             9999   \n",
            "18      Realme Narzo 10A (So Blue, 32 GB)        4.6             8999   \n",
            "48         Apple iPhone XR (Black, 64 GB)        4.6            46999   \n",
            "51  Apple iPhone XR ((PRODUCT)RED, 64 GB)        4.6            46999   \n",
            "54          Apple iPhone XR (Blue, 64 GB)        4.6            46999   \n",
            "55          Apple iPhone XR (Blue, 64 GB)        4.6            46999   \n",
            "57        Apple iPhone XR (White, 128 GB)        4.6            52999   \n",
            "58         Apple iPhone XR (White, 64 GB)        4.6            46999   \n",
            "\n",
            "    Porcentaje_descuento  \n",
            "13             16.668519  \n",
            "14             16.668519  \n",
            "15             10.001000  \n",
            "16              9.091736  \n",
            "17              9.091736  \n",
            "18             10.001000  \n",
            "48             10.478095  \n",
            "51             10.478095  \n",
            "54             10.478095  \n",
            "55             10.478095  \n",
            "57              8.306228  \n",
            "58             10.478095  \n"
          ]
        }
      ]
    },
    {
      "cell_type": "markdown",
      "source": [
        "### **Show a graph of the average stars of each brand and the total distribution of stars of all brands**"
      ],
      "metadata": {
        "id": "fVwM0F6JoWh6"
      }
    },
    {
      "cell_type": "code",
      "source": [
        "plt.figure(figsize=(20,10))\n",
        "plt.bar(df_marcas['Nombre Marca'], promedio_Estrellas, color = 'cyan')\n",
        "plt.ylabel('Stars')\n",
        "plt.xlabel('Brands')\n",
        "plt.title('Average stars per brand')\n",
        "plt.grid(True)\n",
        "plt.show()"
      ],
      "metadata": {
        "id": "QN9Araxcyonk",
        "colab": {
          "base_uri": "https://localhost:8080/",
          "height": 621
        },
        "outputId": "201688bf-119b-490f-9d09-9633aee94c41"
      },
      "execution_count": 17,
      "outputs": [
        {
          "output_type": "display_data",
          "data": {
            "text/plain": [
              "<Figure size 1440x720 with 1 Axes>"
            ],
            "image/png": "[encoded data removed]"
          },
          "metadata": {
            "needs_background": "light"
          }
        }
      ]
    },
    {
      "cell_type": "code",
      "source": [
        "plt.figure(figsize=(20,10))\n",
        "plt.violinplot(df['Estrellas'])\n",
        "plt.title('Stars distribution')\n",
        "plt.ylabel('Stars')\n",
        "plt.show()"
      ],
      "metadata": {
        "colab": {
          "base_uri": "https://localhost:8080/",
          "height": 607
        },
        "id": "wQW-6D3XsFyK",
        "outputId": "17aa3d6e-f53f-4263-ee69-66fac10f3291"
      },
      "execution_count": 18,
      "outputs": [
        {
          "output_type": "display_data",
          "data": {
            "text/plain": [
              "<Figure size 1440x720 with 1 Axes>"
            ],
            "image/png": "[encoded data removed]"
          },
          "metadata": {
            "needs_background": "light"
          }
        }
      ]
    }
  ]
}